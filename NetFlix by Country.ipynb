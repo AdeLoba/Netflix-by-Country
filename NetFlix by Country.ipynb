{
 "cells": [
  {
   "cell_type": "code",
   "execution_count": 1,
   "id": "0293ec23",
   "metadata": {},
   "outputs": [],
   "source": [
    "import pandas as pd\n",
    "import matplotlib.pyplot as plt"
   ]
  },
  {
   "cell_type": "code",
   "execution_count": 2,
   "id": "a9dc71c0",
   "metadata": {},
   "outputs": [
    {
     "data": {
      "text/html": [
       "<div>\n",
       "<style scoped>\n",
       "    .dataframe tbody tr th:only-of-type {\n",
       "        vertical-align: middle;\n",
       "    }\n",
       "\n",
       "    .dataframe tbody tr th {\n",
       "        vertical-align: top;\n",
       "    }\n",
       "\n",
       "    .dataframe thead th {\n",
       "        text-align: right;\n",
       "    }\n",
       "</style>\n",
       "<table border=\"1\" class=\"dataframe\">\n",
       "  <thead>\n",
       "    <tr style=\"text-align: right;\">\n",
       "      <th></th>\n",
       "      <th>show_id</th>\n",
       "      <th>type</th>\n",
       "      <th>title</th>\n",
       "      <th>director</th>\n",
       "      <th>cast</th>\n",
       "      <th>country</th>\n",
       "      <th>date_added</th>\n",
       "      <th>release_year</th>\n",
       "      <th>rating</th>\n",
       "      <th>duration</th>\n",
       "      <th>listed_in</th>\n",
       "      <th>description</th>\n",
       "    </tr>\n",
       "  </thead>\n",
       "  <tbody>\n",
       "    <tr>\n",
       "      <th>0</th>\n",
       "      <td>s1</td>\n",
       "      <td>Movie</td>\n",
       "      <td>Dick Johnson Is Dead</td>\n",
       "      <td>Kirsten Johnson</td>\n",
       "      <td>NaN</td>\n",
       "      <td>United States</td>\n",
       "      <td>September 25, 2021</td>\n",
       "      <td>2020</td>\n",
       "      <td>PG-13</td>\n",
       "      <td>90 min</td>\n",
       "      <td>Documentaries</td>\n",
       "      <td>As her father nears the end of his life, filmm...</td>\n",
       "    </tr>\n",
       "    <tr>\n",
       "      <th>1</th>\n",
       "      <td>s2</td>\n",
       "      <td>TV Show</td>\n",
       "      <td>Blood &amp; Water</td>\n",
       "      <td>NaN</td>\n",
       "      <td>Ama Qamata, Khosi Ngema, Gail Mabalane, Thaban...</td>\n",
       "      <td>South Africa</td>\n",
       "      <td>September 24, 2021</td>\n",
       "      <td>2021</td>\n",
       "      <td>TV-MA</td>\n",
       "      <td>2 Seasons</td>\n",
       "      <td>International TV Shows, TV Dramas, TV Mysteries</td>\n",
       "      <td>After crossing paths at a party, a Cape Town t...</td>\n",
       "    </tr>\n",
       "    <tr>\n",
       "      <th>2</th>\n",
       "      <td>s3</td>\n",
       "      <td>TV Show</td>\n",
       "      <td>Ganglands</td>\n",
       "      <td>Julien Leclercq</td>\n",
       "      <td>Sami Bouajila, Tracy Gotoas, Samuel Jouy, Nabi...</td>\n",
       "      <td>NaN</td>\n",
       "      <td>September 24, 2021</td>\n",
       "      <td>2021</td>\n",
       "      <td>TV-MA</td>\n",
       "      <td>1 Season</td>\n",
       "      <td>Crime TV Shows, International TV Shows, TV Act...</td>\n",
       "      <td>To protect his family from a powerful drug lor...</td>\n",
       "    </tr>\n",
       "    <tr>\n",
       "      <th>3</th>\n",
       "      <td>s4</td>\n",
       "      <td>TV Show</td>\n",
       "      <td>Jailbirds New Orleans</td>\n",
       "      <td>NaN</td>\n",
       "      <td>NaN</td>\n",
       "      <td>NaN</td>\n",
       "      <td>September 24, 2021</td>\n",
       "      <td>2021</td>\n",
       "      <td>TV-MA</td>\n",
       "      <td>1 Season</td>\n",
       "      <td>Docuseries, Reality TV</td>\n",
       "      <td>Feuds, flirtations and toilet talk go down amo...</td>\n",
       "    </tr>\n",
       "    <tr>\n",
       "      <th>4</th>\n",
       "      <td>s5</td>\n",
       "      <td>TV Show</td>\n",
       "      <td>Kota Factory</td>\n",
       "      <td>NaN</td>\n",
       "      <td>Mayur More, Jitendra Kumar, Ranjan Raj, Alam K...</td>\n",
       "      <td>India</td>\n",
       "      <td>September 24, 2021</td>\n",
       "      <td>2021</td>\n",
       "      <td>TV-MA</td>\n",
       "      <td>2 Seasons</td>\n",
       "      <td>International TV Shows, Romantic TV Shows, TV ...</td>\n",
       "      <td>In a city of coaching centers known to train I...</td>\n",
       "    </tr>\n",
       "  </tbody>\n",
       "</table>\n",
       "</div>"
      ],
      "text/plain": [
       "  show_id     type                  title         director  \\\n",
       "0      s1    Movie   Dick Johnson Is Dead  Kirsten Johnson   \n",
       "1      s2  TV Show          Blood & Water              NaN   \n",
       "2      s3  TV Show              Ganglands  Julien Leclercq   \n",
       "3      s4  TV Show  Jailbirds New Orleans              NaN   \n",
       "4      s5  TV Show           Kota Factory              NaN   \n",
       "\n",
       "                                                cast        country  \\\n",
       "0                                                NaN  United States   \n",
       "1  Ama Qamata, Khosi Ngema, Gail Mabalane, Thaban...   South Africa   \n",
       "2  Sami Bouajila, Tracy Gotoas, Samuel Jouy, Nabi...            NaN   \n",
       "3                                                NaN            NaN   \n",
       "4  Mayur More, Jitendra Kumar, Ranjan Raj, Alam K...          India   \n",
       "\n",
       "           date_added  release_year rating   duration  \\\n",
       "0  September 25, 2021          2020  PG-13     90 min   \n",
       "1  September 24, 2021          2021  TV-MA  2 Seasons   \n",
       "2  September 24, 2021          2021  TV-MA   1 Season   \n",
       "3  September 24, 2021          2021  TV-MA   1 Season   \n",
       "4  September 24, 2021          2021  TV-MA  2 Seasons   \n",
       "\n",
       "                                           listed_in  \\\n",
       "0                                      Documentaries   \n",
       "1    International TV Shows, TV Dramas, TV Mysteries   \n",
       "2  Crime TV Shows, International TV Shows, TV Act...   \n",
       "3                             Docuseries, Reality TV   \n",
       "4  International TV Shows, Romantic TV Shows, TV ...   \n",
       "\n",
       "                                         description  \n",
       "0  As her father nears the end of his life, filmm...  \n",
       "1  After crossing paths at a party, a Cape Town t...  \n",
       "2  To protect his family from a powerful drug lor...  \n",
       "3  Feuds, flirtations and toilet talk go down amo...  \n",
       "4  In a city of coaching centers known to train I...  "
      ]
     },
     "execution_count": 2,
     "metadata": {},
     "output_type": "execute_result"
    }
   ],
   "source": [
    "df = pd.read_csv('netflix_titles.csv')\n",
    "df.head()"
   ]
  },
  {
   "cell_type": "code",
   "execution_count": 3,
   "id": "eab7d063",
   "metadata": {},
   "outputs": [
    {
     "name": "stdout",
     "output_type": "stream",
     "text": [
      "<class 'pandas.core.frame.DataFrame'>\n",
      "RangeIndex: 8807 entries, 0 to 8806\n",
      "Data columns (total 12 columns):\n",
      " #   Column        Non-Null Count  Dtype \n",
      "---  ------        --------------  ----- \n",
      " 0   show_id       8807 non-null   object\n",
      " 1   type          8807 non-null   object\n",
      " 2   title         8807 non-null   object\n",
      " 3   director      6173 non-null   object\n",
      " 4   cast          7982 non-null   object\n",
      " 5   country       7976 non-null   object\n",
      " 6   date_added    8797 non-null   object\n",
      " 7   release_year  8807 non-null   int64 \n",
      " 8   rating        8803 non-null   object\n",
      " 9   duration      8804 non-null   object\n",
      " 10  listed_in     8807 non-null   object\n",
      " 11  description   8807 non-null   object\n",
      "dtypes: int64(1), object(11)\n",
      "memory usage: 825.8+ KB\n"
     ]
    }
   ],
   "source": [
    "df.info()"
   ]
  },
  {
   "cell_type": "code",
   "execution_count": 4,
   "id": "26a6bea7",
   "metadata": {},
   "outputs": [],
   "source": [
    "missing_values = df.isnull()"
   ]
  },
  {
   "cell_type": "code",
   "execution_count": 5,
   "id": "b83da788",
   "metadata": {},
   "outputs": [
    {
     "name": "stdout",
     "output_type": "stream",
     "text": [
      "show_id\n",
      "False    8807\n",
      "Name: show_id, dtype: int64\n",
      "\n",
      "type\n",
      "False    8807\n",
      "Name: type, dtype: int64\n",
      "\n",
      "title\n",
      "False    8807\n",
      "Name: title, dtype: int64\n",
      "\n",
      "director\n",
      "False    6173\n",
      "True     2634\n",
      "Name: director, dtype: int64\n",
      "\n",
      "cast\n",
      "False    7982\n",
      "True      825\n",
      "Name: cast, dtype: int64\n",
      "\n",
      "country\n",
      "False    7976\n",
      "True      831\n",
      "Name: country, dtype: int64\n",
      "\n",
      "date_added\n",
      "False    8797\n",
      "True       10\n",
      "Name: date_added, dtype: int64\n",
      "\n",
      "release_year\n",
      "False    8807\n",
      "Name: release_year, dtype: int64\n",
      "\n",
      "rating\n",
      "False    8803\n",
      "True        4\n",
      "Name: rating, dtype: int64\n",
      "\n",
      "duration\n",
      "False    8804\n",
      "True        3\n",
      "Name: duration, dtype: int64\n",
      "\n",
      "listed_in\n",
      "False    8807\n",
      "Name: listed_in, dtype: int64\n",
      "\n",
      "description\n",
      "False    8807\n",
      "Name: description, dtype: int64\n",
      "\n"
     ]
    }
   ],
   "source": [
    "for column in missing_values.columns.values.tolist():\n",
    "    print(column)\n",
    "    print (missing_values[column].value_counts())\n",
    "    print(\"\")"
   ]
  },
  {
   "cell_type": "code",
   "execution_count": 6,
   "id": "7796df93",
   "metadata": {},
   "outputs": [
    {
     "data": {
      "text/plain": [
       "show_id            0\n",
       "type               0\n",
       "title              0\n",
       "director        2634\n",
       "cast             825\n",
       "country          831\n",
       "date_added        10\n",
       "release_year       0\n",
       "rating             4\n",
       "duration           3\n",
       "listed_in          0\n",
       "description        0\n",
       "dtype: int64"
      ]
     },
     "execution_count": 6,
     "metadata": {},
     "output_type": "execute_result"
    }
   ],
   "source": [
    "df.isnull().sum()"
   ]
  },
  {
   "cell_type": "code",
   "execution_count": 7,
   "id": "2e72594d",
   "metadata": {},
   "outputs": [],
   "source": [
    "import numpy as np\n",
    "import seaborn as sns"
   ]
  },
  {
   "cell_type": "code",
   "execution_count": 8,
   "id": "fe317ce3",
   "metadata": {},
   "outputs": [
    {
     "data": {
      "text/plain": [
       "<bound method Series.idxmax of country\n",
       "United States                                                                          2818\n",
       "India                                                                                   972\n",
       "United Kingdom                                                                          419\n",
       "Japan                                                                                   245\n",
       "South Korea                                                                             199\n",
       "                                                                                       ... \n",
       "Ireland, Canada, Luxembourg, United States, United Kingdom, Philippines, India            1\n",
       "Ireland, Canada, United Kingdom, United States                                            1\n",
       "Ireland, Canada, United States, United Kingdom                                            1\n",
       "Ireland, France, Iceland, United States, Mexico, Belgium, United Kingdom, Hong Kong       1\n",
       "Zimbabwe                                                                                  1\n",
       "Length: 748, dtype: int64>"
      ]
     },
     "execution_count": 8,
     "metadata": {},
     "output_type": "execute_result"
    }
   ],
   "source": [
    "df.value_counts('country').idxmax"
   ]
  },
  {
   "cell_type": "code",
   "execution_count": 9,
   "id": "4b0fea97",
   "metadata": {},
   "outputs": [
    {
     "data": {
      "text/plain": [
       "<bound method Series.idxmax of date_added\n",
       "January 1, 2020      109\n",
       "November 1, 2019      89\n",
       "March 1, 2018         75\n",
       "December 31, 2019     74\n",
       "October 1, 2018       71\n",
       "                    ... \n",
       "July 4, 2021           1\n",
       "July 5, 2018           1\n",
       "July 6, 2016           1\n",
       "July 7, 2015           1\n",
       "July 29, 2018          1\n",
       "Length: 1767, dtype: int64>"
      ]
     },
     "execution_count": 9,
     "metadata": {},
     "output_type": "execute_result"
    }
   ],
   "source": [
    "df.value_counts('date_added').idxmax"
   ]
  },
  {
   "cell_type": "code",
   "execution_count": 10,
   "id": "8e8f0766",
   "metadata": {},
   "outputs": [
    {
     "data": {
      "text/plain": [
       "<bound method Series.idxmax of rating\n",
       "TV-MA       3207\n",
       "TV-14       2160\n",
       "TV-PG        863\n",
       "R            799\n",
       "PG-13        490\n",
       "TV-Y7        334\n",
       "TV-Y         307\n",
       "PG           287\n",
       "TV-G         220\n",
       "NR            80\n",
       "G             41\n",
       "TV-Y7-FV       6\n",
       "UR             3\n",
       "NC-17          3\n",
       "74 min         1\n",
       "84 min         1\n",
       "66 min         1\n",
       "dtype: int64>"
      ]
     },
     "execution_count": 10,
     "metadata": {},
     "output_type": "execute_result"
    }
   ],
   "source": [
    "df.value_counts('rating').idxmax"
   ]
  },
  {
   "cell_type": "code",
   "execution_count": 11,
   "id": "d4bee35e",
   "metadata": {},
   "outputs": [
    {
     "data": {
      "text/plain": [
       "<bound method Series.idxmax of duration\n",
       "1 Season     1793\n",
       "2 Seasons     425\n",
       "3 Seasons     199\n",
       "90 min        152\n",
       "97 min        146\n",
       "             ... \n",
       "201 min         1\n",
       "200 min         1\n",
       "196 min         1\n",
       "43 min          1\n",
       "10 min          1\n",
       "Length: 220, dtype: int64>"
      ]
     },
     "execution_count": 11,
     "metadata": {},
     "output_type": "execute_result"
    }
   ],
   "source": [
    "df.value_counts('duration').idxmax"
   ]
  },
  {
   "cell_type": "code",
   "execution_count": 12,
   "id": "f55a3c42",
   "metadata": {},
   "outputs": [],
   "source": [
    "df.drop(['director', 'cast'], axis = 1, inplace = True)"
   ]
  },
  {
   "cell_type": "code",
   "execution_count": 13,
   "id": "7dbc7893",
   "metadata": {},
   "outputs": [],
   "source": [
    "df['country'].replace(np.nan, 'United States', inplace = True)"
   ]
  },
  {
   "cell_type": "code",
   "execution_count": 14,
   "id": "67219665",
   "metadata": {},
   "outputs": [],
   "source": [
    "df['date_added'] = df['date_added'].fillna(df['date_added'].mode()[0])"
   ]
  },
  {
   "cell_type": "code",
   "execution_count": 15,
   "id": "a25f1ebe",
   "metadata": {},
   "outputs": [],
   "source": [
    "df['rating'] = df['rating'].fillna(df['rating'].mode()[0])\n",
    "df['duration'] = df['duration'].fillna(df['duration'].mode()[0])"
   ]
  },
  {
   "cell_type": "code",
   "execution_count": 16,
   "id": "75abf6eb",
   "metadata": {},
   "outputs": [
    {
     "data": {
      "text/plain": [
       "show_id         0\n",
       "type            0\n",
       "title           0\n",
       "country         0\n",
       "date_added      0\n",
       "release_year    0\n",
       "rating          0\n",
       "duration        0\n",
       "listed_in       0\n",
       "description     0\n",
       "dtype: int64"
      ]
     },
     "execution_count": 16,
     "metadata": {},
     "output_type": "execute_result"
    }
   ],
   "source": [
    "df.isnull().sum()"
   ]
  },
  {
   "cell_type": "code",
   "execution_count": 17,
   "id": "4b1ee684",
   "metadata": {},
   "outputs": [
    {
     "data": {
      "text/plain": [
       "<AxesSubplot:xlabel='type', ylabel='count'>"
      ]
     },
     "execution_count": 17,
     "metadata": {},
     "output_type": "execute_result"
    },
    {
     "data": {
      "image/png": "[encoded data removed]",
      "text/plain": [
       "<Figure size 432x288 with 1 Axes>"
      ]
     },
     "metadata": {
      "needs_background": "light"
     },
     "output_type": "display_data"
    }
   ],
   "source": [
    "sns.countplot(x='type', data = df)"
   ]
  },
  {
   "cell_type": "code",
   "execution_count": 66,
   "id": "d6a83434",
   "metadata": {},
   "outputs": [
    {
     "data": {
      "image/png": "[encoded data removed]",
      "text/plain": [
       "<Figure size 864x432 with 1 Axes>"
      ]
     },
     "metadata": {
      "needs_background": "light"
     },
     "output_type": "display_data"
    }
   ],
   "source": [
    "countries = pd.crosstab(df['country'], ['type']).sort_values(by='type', ascending=True)[-15:].reset_index()\n",
    "\n",
    "plt.figure(figsize=(12,6))\n",
    "con = sns.barplot(x=countries['country'], y=countries['type'])\n",
    "plt.title('HIGHEST NUMBER OF MOVIES AND SHOWS BY COUNTRIES', fontsize=20)\n",
    "\n",
    "for i in con.patches:\n",
    "    con.text(i.get_x()+.25, i.get_height()+.25, str(int((i.get_height()))), rotation=0, fontsize=15, color='black')"
   ]
  },
  {
   "cell_type": "code",
   "execution_count": 37,
   "id": "83be0fd7",
   "metadata": {},
   "outputs": [
    {
     "data": {
      "text/plain": [
       "Text(0.5, 1.0, '10 HIGHEST NUMBER OF MOVIES AND SHOWS BY COUNTRIES')"
      ]
     },
     "execution_count": 37,
     "metadata": {},
     "output_type": "execute_result"
    },
    {
     "data": {
      "image/png": "[encoded data removed]",
      "text/plain": [
       "<Figure size 864x432 with 1 Axes>"
      ]
     },
     "metadata": {
      "needs_background": "light"
     },
     "output_type": "display_data"
    }
   ],
   "source": [
    "m = df[df['type'] == 'Movie']\n",
    "movies = m['country'].value_counts().reset_index()[0:10]\n",
    "\n",
    "plt.figure(figsize=(12,6))\n",
    "sns.barplot(x=movies['index'], y=movies['country'])\n",
    "plt.title('10 HIGHEST NUMBER OF MOVIES AND SHOWS BY COUNTRIES', fontsize=20)"
   ]
  },
  {
   "cell_type": "code",
   "execution_count": 39,
   "id": "9a4de7a8",
   "metadata": {},
   "outputs": [
    {
     "data": {
      "text/plain": [
       "Text(0.5, 1.0, '10 HIGHEST NUMBER OF TV SHOWS AND SHOWS BY COUNTRIES')"
      ]
     },
     "execution_count": 39,
     "metadata": {},
     "output_type": "execute_result"
    },
    {
     "data": {
      "image/png": "[encoded data removed]",
      "text/plain": [
       "<Figure size 864x432 with 1 Axes>"
      ]
     },
     "metadata": {
      "needs_background": "light"
     },
     "output_type": "display_data"
    }
   ],
   "source": [
    "m = df[df['type'] == 'TV Show']\n",
    "movies = m['country'].value_counts().reset_index()[0:10]\n",
    "\n",
    "plt.figure(figsize=(12,6))\n",
    "sns.barplot(x=movies['index'], y=movies['country'])\n",
    "plt.title('10 HIGHEST NUMBER OF TV SHOWS AND SHOWS BY COUNTRIES', fontsize=20)"
   ]
  },
  {
   "cell_type": "code",
   "execution_count": 40,
   "id": "a7d41243",
   "metadata": {},
   "outputs": [
    {
     "data": {
      "text/html": [
       "<div>\n",
       "<style scoped>\n",
       "    .dataframe tbody tr th:only-of-type {\n",
       "        vertical-align: middle;\n",
       "    }\n",
       "\n",
       "    .dataframe tbody tr th {\n",
       "        vertical-align: top;\n",
       "    }\n",
       "\n",
       "    .dataframe thead th {\n",
       "        text-align: right;\n",
       "    }\n",
       "</style>\n",
       "<table border=\"1\" class=\"dataframe\">\n",
       "  <thead>\n",
       "    <tr style=\"text-align: right;\">\n",
       "      <th></th>\n",
       "      <th>show_id</th>\n",
       "      <th>type</th>\n",
       "      <th>title</th>\n",
       "      <th>country</th>\n",
       "      <th>date_added</th>\n",
       "      <th>release_year</th>\n",
       "      <th>rating</th>\n",
       "      <th>duration</th>\n",
       "      <th>listed_in</th>\n",
       "      <th>description</th>\n",
       "    </tr>\n",
       "  </thead>\n",
       "  <tbody>\n",
       "    <tr>\n",
       "      <th>49</th>\n",
       "      <td>s50</td>\n",
       "      <td>TV Show</td>\n",
       "      <td>Castle and Castle</td>\n",
       "      <td>Nigeria</td>\n",
       "      <td>September 15, 2021</td>\n",
       "      <td>2021</td>\n",
       "      <td>TV-MA</td>\n",
       "      <td>2 Seasons</td>\n",
       "      <td>International TV Shows, TV Dramas</td>\n",
       "      <td>A pair of high-powered, successful lawyers fin...</td>\n",
       "    </tr>\n",
       "    <tr>\n",
       "      <th>73</th>\n",
       "      <td>s74</td>\n",
       "      <td>Movie</td>\n",
       "      <td>King of Boys</td>\n",
       "      <td>Nigeria</td>\n",
       "      <td>September 14, 2021</td>\n",
       "      <td>2018</td>\n",
       "      <td>TV-MA</td>\n",
       "      <td>182 min</td>\n",
       "      <td>Dramas, International Movies</td>\n",
       "      <td>When a powerful businesswoman’s political ambi...</td>\n",
       "    </tr>\n",
       "    <tr>\n",
       "      <th>84</th>\n",
       "      <td>s85</td>\n",
       "      <td>Movie</td>\n",
       "      <td>Omo Ghetto: the Saga</td>\n",
       "      <td>Nigeria</td>\n",
       "      <td>September 10, 2021</td>\n",
       "      <td>2020</td>\n",
       "      <td>TV-MA</td>\n",
       "      <td>147 min</td>\n",
       "      <td>Action &amp; Adventure, Comedies, Dramas</td>\n",
       "      <td>Twins are reunited as a good-hearted female ga...</td>\n",
       "    </tr>\n",
       "    <tr>\n",
       "      <th>198</th>\n",
       "      <td>s199</td>\n",
       "      <td>TV Show</td>\n",
       "      <td>King of Boys: The Return of the King</td>\n",
       "      <td>Nigeria</td>\n",
       "      <td>August 27, 2021</td>\n",
       "      <td>2021</td>\n",
       "      <td>TV-MA</td>\n",
       "      <td>1 Season</td>\n",
       "      <td>Crime TV Shows, International TV Shows, TV Dramas</td>\n",
       "      <td>Alhaja Eniola Salami starts anew and sets her ...</td>\n",
       "    </tr>\n",
       "    <tr>\n",
       "      <th>281</th>\n",
       "      <td>s282</td>\n",
       "      <td>Movie</td>\n",
       "      <td>Brother Jekwu</td>\n",
       "      <td>Nigeria</td>\n",
       "      <td>August 11, 2021</td>\n",
       "      <td>2016</td>\n",
       "      <td>TV-14</td>\n",
       "      <td>101 min</td>\n",
       "      <td>Comedies, International Movies</td>\n",
       "      <td>Chasing wild success, a village hustler follow...</td>\n",
       "    </tr>\n",
       "    <tr>\n",
       "      <th>...</th>\n",
       "      <td>...</td>\n",
       "      <td>...</td>\n",
       "      <td>...</td>\n",
       "      <td>...</td>\n",
       "      <td>...</td>\n",
       "      <td>...</td>\n",
       "      <td>...</td>\n",
       "      <td>...</td>\n",
       "      <td>...</td>\n",
       "      <td>...</td>\n",
       "    </tr>\n",
       "    <tr>\n",
       "      <th>7875</th>\n",
       "      <td>s7876</td>\n",
       "      <td>Movie</td>\n",
       "      <td>Road to Yesterday</td>\n",
       "      <td>Nigeria</td>\n",
       "      <td>July 1, 2016</td>\n",
       "      <td>2015</td>\n",
       "      <td>TV-14</td>\n",
       "      <td>96 min</td>\n",
       "      <td>Dramas, International Movies</td>\n",
       "      <td>Their marriage failing, Victoria and Izu try t...</td>\n",
       "    </tr>\n",
       "    <tr>\n",
       "      <th>8227</th>\n",
       "      <td>s8228</td>\n",
       "      <td>Movie</td>\n",
       "      <td>The Bridge</td>\n",
       "      <td>Nigeria</td>\n",
       "      <td>September 1, 2019</td>\n",
       "      <td>2017</td>\n",
       "      <td>TV-14</td>\n",
       "      <td>119 min</td>\n",
       "      <td>Dramas, International Movies, Romantic Movies</td>\n",
       "      <td>A Yoruba prince and a young lady from a promin...</td>\n",
       "    </tr>\n",
       "    <tr>\n",
       "      <th>8241</th>\n",
       "      <td>s8242</td>\n",
       "      <td>Movie</td>\n",
       "      <td>The CEO</td>\n",
       "      <td>Nigeria</td>\n",
       "      <td>September 1, 2019</td>\n",
       "      <td>2016</td>\n",
       "      <td>TV-14</td>\n",
       "      <td>109 min</td>\n",
       "      <td>Dramas, International Movies, Thrillers</td>\n",
       "      <td>A group of executives heads to a telecommunica...</td>\n",
       "    </tr>\n",
       "    <tr>\n",
       "      <th>8297</th>\n",
       "      <td>s8298</td>\n",
       "      <td>Movie</td>\n",
       "      <td>The Figurine (Araromire)</td>\n",
       "      <td>Nigeria</td>\n",
       "      <td>October 1, 2019</td>\n",
       "      <td>2009</td>\n",
       "      <td>TV-14</td>\n",
       "      <td>121 min</td>\n",
       "      <td>Horror Movies, International Movies, Thrillers</td>\n",
       "      <td>When a pair of friends discovers a mystical sc...</td>\n",
       "    </tr>\n",
       "    <tr>\n",
       "      <th>8556</th>\n",
       "      <td>s8557</td>\n",
       "      <td>Movie</td>\n",
       "      <td>The Wedding Party 2: Destination Dubai</td>\n",
       "      <td>Nigeria</td>\n",
       "      <td>September 21, 2019</td>\n",
       "      <td>2017</td>\n",
       "      <td>TV-14</td>\n",
       "      <td>98 min</td>\n",
       "      <td>Comedies, International Movies, Romantic Movies</td>\n",
       "      <td>In this sequel to the 2016 hit \"The Wedding Pa...</td>\n",
       "    </tr>\n",
       "  </tbody>\n",
       "</table>\n",
       "<p>95 rows × 10 columns</p>\n",
       "</div>"
      ],
      "text/plain": [
       "     show_id     type                                   title  country  \\\n",
       "49       s50  TV Show                       Castle and Castle  Nigeria   \n",
       "73       s74    Movie                            King of Boys  Nigeria   \n",
       "84       s85    Movie                    Omo Ghetto: the Saga  Nigeria   \n",
       "198     s199  TV Show    King of Boys: The Return of the King  Nigeria   \n",
       "281     s282    Movie                           Brother Jekwu  Nigeria   \n",
       "...      ...      ...                                     ...      ...   \n",
       "7875   s7876    Movie                       Road to Yesterday  Nigeria   \n",
       "8227   s8228    Movie                              The Bridge  Nigeria   \n",
       "8241   s8242    Movie                                 The CEO  Nigeria   \n",
       "8297   s8298    Movie                The Figurine (Araromire)  Nigeria   \n",
       "8556   s8557    Movie  The Wedding Party 2: Destination Dubai  Nigeria   \n",
       "\n",
       "              date_added  release_year rating   duration  \\\n",
       "49    September 15, 2021          2021  TV-MA  2 Seasons   \n",
       "73    September 14, 2021          2018  TV-MA    182 min   \n",
       "84    September 10, 2021          2020  TV-MA    147 min   \n",
       "198      August 27, 2021          2021  TV-MA   1 Season   \n",
       "281      August 11, 2021          2016  TV-14    101 min   \n",
       "...                  ...           ...    ...        ...   \n",
       "7875        July 1, 2016          2015  TV-14     96 min   \n",
       "8227   September 1, 2019          2017  TV-14    119 min   \n",
       "8241   September 1, 2019          2016  TV-14    109 min   \n",
       "8297     October 1, 2019          2009  TV-14    121 min   \n",
       "8556  September 21, 2019          2017  TV-14     98 min   \n",
       "\n",
       "                                              listed_in  \\\n",
       "49                    International TV Shows, TV Dramas   \n",
       "73                         Dramas, International Movies   \n",
       "84                 Action & Adventure, Comedies, Dramas   \n",
       "198   Crime TV Shows, International TV Shows, TV Dramas   \n",
       "281                      Comedies, International Movies   \n",
       "...                                                 ...   \n",
       "7875                       Dramas, International Movies   \n",
       "8227      Dramas, International Movies, Romantic Movies   \n",
       "8241            Dramas, International Movies, Thrillers   \n",
       "8297     Horror Movies, International Movies, Thrillers   \n",
       "8556    Comedies, International Movies, Romantic Movies   \n",
       "\n",
       "                                            description  \n",
       "49    A pair of high-powered, successful lawyers fin...  \n",
       "73    When a powerful businesswoman’s political ambi...  \n",
       "84    Twins are reunited as a good-hearted female ga...  \n",
       "198   Alhaja Eniola Salami starts anew and sets her ...  \n",
       "281   Chasing wild success, a village hustler follow...  \n",
       "...                                                 ...  \n",
       "7875  Their marriage failing, Victoria and Izu try t...  \n",
       "8227  A Yoruba prince and a young lady from a promin...  \n",
       "8241  A group of executives heads to a telecommunica...  \n",
       "8297  When a pair of friends discovers a mystical sc...  \n",
       "8556  In this sequel to the 2016 hit \"The Wedding Pa...  \n",
       "\n",
       "[95 rows x 10 columns]"
      ]
     },
     "execution_count": 40,
     "metadata": {},
     "output_type": "execute_result"
    }
   ],
   "source": [
    "df.loc[df['country'] == 'Nigeria']"
   ]
  },
  {
   "cell_type": "code",
   "execution_count": 44,
   "id": "1437c830",
   "metadata": {},
   "outputs": [
    {
     "data": {
      "text/plain": [
       "Text(0.5, 1.0, 'NUMBER OF MOVIES AND SHOWS IN NIGERIA')"
      ]
     },
     "execution_count": 44,
     "metadata": {},
     "output_type": "execute_result"
    },
    {
     "data": {
      "image/png": "[encoded data removed]",
      "text/plain": [
       "<Figure size 864x432 with 1 Axes>"
      ]
     },
     "metadata": {
      "needs_background": "light"
     },
     "output_type": "display_data"
    }
   ],
   "source": [
    "m = df[df['country'] == 'Nigeria']\n",
    "movies = m['type'].value_counts().reset_index()\n",
    "\n",
    "plt.figure(figsize=(12,6))\n",
    "sns.barplot(x=movies['index'], y=movies['type'])\n",
    "plt.title('NUMBER OF MOVIES AND SHOWS IN NIGERIA', fontsize=20)"
   ]
  },
  {
   "cell_type": "code",
   "execution_count": 71,
   "id": "105bc4e6",
   "metadata": {},
   "outputs": [
    {
     "data": {
      "image/png": "[encoded data removed]",
      "text/plain": [
       "<Figure size 864x432 with 1 Axes>"
      ]
     },
     "metadata": {
      "needs_background": "light"
     },
     "output_type": "display_data"
    }
   ],
   "source": [
    "m = df[df['country'] == 'Nigeria']\n",
    "countries = pd.crosstab(m['date_added'], ['type']).sort_values(by='type', ascending=True)[-10:].reset_index()\n",
    "\n",
    "plt.figure(figsize=(12,6))\n",
    "nig = sns.barplot(x=countries['date_added'], y=countries['type'])\n",
    "plt.title('TOP TEN MOVIES PRODUCED IN NIGERIA BY YEARS', fontsize=20)\n",
    "plt.xticks(rotation=45)\n",
    "\n",
    "for i in nig.patches:\n",
    "    nig.text(i.get_x()+.25, i.get_height()+.25, str(int((i.get_height()))), rotation=0, fontsize=15, color='black')"
   ]
  },
  {
   "cell_type": "code",
   "execution_count": 72,
   "id": "c8cf0a6d",
   "metadata": {},
   "outputs": [
    {
     "data": {
      "image/png": "[encoded data removed]",
      "text/plain": [
       "<Figure size 1440x432 with 1 Axes>"
      ]
     },
     "metadata": {
      "needs_background": "light"
     },
     "output_type": "display_data"
    }
   ],
   "source": [
    "m = df[df['country'] == 'Nigeria']\n",
    "countries = pd.crosstab(m['date_added'], ['type']).sort_values(by='type', ascending=True).reset_index()\n",
    "\n",
    "plt.figure(figsize=(20,6))\n",
    "nig = sns.barplot(x=countries['date_added'], y=countries['type'])\n",
    "plt.title('MOVIES PRODUCED IN NIGERIA', fontsize=20)\n",
    "plt.xticks(rotation=45)\n",
    "\n",
    "for i in nig.patches:\n",
    "    nig.text(i.get_x()+.25, i.get_height()+.25, str(int((i.get_height()))), rotation=0, fontsize=15, color='black')"
   ]
  },
  {
   "cell_type": "code",
   "execution_count": 73,
   "id": "406ae4f5",
   "metadata": {},
   "outputs": [
    {
     "data": {
      "image/png": "[encoded data removed]",
      "text/plain": [
       "<Figure size 864x432 with 1 Axes>"
      ]
     },
     "metadata": {
      "needs_background": "light"
     },
     "output_type": "display_data"
    }
   ],
   "source": [
    "m = df[df['country'] == 'United States']\n",
    "countries = pd.crosstab(m['date_added'], ['type']).sort_values(by='type', ascending=True)[-10:].reset_index()\n",
    "\n",
    "plt.figure(figsize=(12,6))\n",
    "nig = sns.barplot(x=countries['date_added'], y=countries['type'])\n",
    "plt.title('TOP 10 MOVIES PRODUCED IN UNITED STATES BY YEARS', fontsize=20)\n",
    "plt.xticks(rotation=45)\n",
    "\n",
    "for i in nig.patches:\n",
    "    nig.text(i.get_x()+.25, i.get_height()+.25, str(int((i.get_height()))), rotation=0, fontsize=15, color='black')"
   ]
  },
  {
   "cell_type": "code",
   "execution_count": 77,
   "id": "72295ea5",
   "metadata": {},
   "outputs": [
    {
     "name": "stderr",
     "output_type": "stream",
     "text": [
      "C:\\Users\\princ\\anaconda3\\lib\\site-packages\\seaborn\\_decorators.py:36: FutureWarning: Pass the following variable as a keyword arg: x. From version 0.12, the only valid positional argument will be `data`, and passing other arguments without an explicit keyword will result in an error or misinterpretation.\n",
      "  warnings.warn(\n"
     ]
    },
    {
     "data": {
      "image/png": "[encoded data removed]",
      "text/plain": [
       "<Figure size 1296x432 with 1 Axes>"
      ]
     },
     "metadata": {
      "needs_background": "light"
     },
     "output_type": "display_data"
    }
   ],
   "source": [
    "c = df[df['type'] == 'Movie']\n",
    "\n",
    "plt.figure(figsize=(18,6))\n",
    "sns.countplot(c['date_added'])\n",
    "plt.title('MOVIES ADDED OVER THE YEARS', fontsize=20)\n",
    "plt.xticks(rotation=45)\n",
    "\n",
    "for i in nig.patches:\n",
    "    nig.text(i.get_x()+.25, i.get_height()+.25, str(int((i.get_height()))), rotation=0, fontsize=15, color='black')"
   ]
  },
  {
   "cell_type": "code",
   "execution_count": 78,
   "id": "9eb31f8a",
   "metadata": {},
   "outputs": [
    {
     "data": {
      "text/plain": [
       "<AxesSubplot:xlabel='rating', ylabel='count'>"
      ]
     },
     "execution_count": 78,
     "metadata": {},
     "output_type": "execute_result"
    },
    {
     "data": {
      "image/png": "[encoded data removed]",
      "text/plain": [
       "<Figure size 864x432 with 1 Axes>"
      ]
     },
     "metadata": {
      "needs_background": "light"
     },
     "output_type": "display_data"
    }
   ],
   "source": [
    "plt.figure(figsize = (12,6))\n",
    "sns.countplot(x='rating', data = df)"
   ]
  },
  {
   "cell_type": "code",
   "execution_count": 84,
   "id": "28a0f68a",
   "metadata": {},
   "outputs": [
    {
     "data": {
      "image/png": "[encoded data removed]",
      "text/plain": [
       "<Figure size 1080x432 with 1 Axes>"
      ]
     },
     "metadata": {
      "needs_background": "light"
     },
     "output_type": "display_data"
    }
   ],
   "source": [
    "m = df[df['country'] == 'Nigeria']\n",
    "countries = pd.crosstab(m['release_year'], ['type']).sort_values(by='release_year', ascending=True).reset_index()\n",
    "\n",
    "plt.figure(figsize=(15,6))\n",
    "nig = sns.barplot(x=countries['release_year'], y=countries['type'])\n",
    "plt.title('MOVIES RELEASED IN NIGERIA BY YEARS', fontsize=20)\n",
    "plt.xticks(rotation=45)\n",
    "\n",
    "for i in nig.patches:\n",
    "    nig.text(i.get_x()+.25, i.get_height()+.25, str(int((i.get_height()))), rotation=0, fontsize=15, color='black')"
   ]
  },
  {
   "cell_type": "code",
   "execution_count": 85,
   "id": "2728d37d",
   "metadata": {},
   "outputs": [
    {
     "data": {
      "text/plain": [
       "<AxesSubplot:xlabel='rating', ylabel='count'>"
      ]
     },
     "execution_count": 85,
     "metadata": {},
     "output_type": "execute_result"
    },
    {
     "data": {
      "image/png": "[encoded data removed]",
      "text/plain": [
       "<Figure size 864x432 with 1 Axes>"
      ]
     },
     "metadata": {
      "needs_background": "light"
     },
     "output_type": "display_data"
    }
   ],
   "source": [
    "plt.figure(figsize = (12,6))\n",
    "sns.countplot(x='rating', data = df, hue = 'type')"
   ]
  },
  {
   "cell_type": "code",
   "execution_count": 87,
   "id": "8bc97a79",
   "metadata": {},
   "outputs": [
    {
     "data": {
      "text/html": [
       "<div>\n",
       "<style scoped>\n",
       "    .dataframe tbody tr th:only-of-type {\n",
       "        vertical-align: middle;\n",
       "    }\n",
       "\n",
       "    .dataframe tbody tr th {\n",
       "        vertical-align: top;\n",
       "    }\n",
       "\n",
       "    .dataframe thead th {\n",
       "        text-align: right;\n",
       "    }\n",
       "</style>\n",
       "<table border=\"1\" class=\"dataframe\">\n",
       "  <thead>\n",
       "    <tr style=\"text-align: right;\">\n",
       "      <th></th>\n",
       "      <th>title</th>\n",
       "      <th>release_year</th>\n",
       "    </tr>\n",
       "  </thead>\n",
       "  <tbody>\n",
       "    <tr>\n",
       "      <th>4250</th>\n",
       "      <td>Pioneers: First Women Filmmakers*</td>\n",
       "      <td>1925</td>\n",
       "    </tr>\n",
       "    <tr>\n",
       "      <th>7790</th>\n",
       "      <td>Prelude to War</td>\n",
       "      <td>1942</td>\n",
       "    </tr>\n",
       "    <tr>\n",
       "      <th>8205</th>\n",
       "      <td>The Battle of Midway</td>\n",
       "      <td>1942</td>\n",
       "    </tr>\n",
       "    <tr>\n",
       "      <th>8660</th>\n",
       "      <td>Undercover: How to Operate Behind Enemy Lines</td>\n",
       "      <td>1943</td>\n",
       "    </tr>\n",
       "    <tr>\n",
       "      <th>8739</th>\n",
       "      <td>Why We Fight: The Battle of Russia</td>\n",
       "      <td>1943</td>\n",
       "    </tr>\n",
       "    <tr>\n",
       "      <th>8763</th>\n",
       "      <td>WWII: Report from the Aleutians</td>\n",
       "      <td>1943</td>\n",
       "    </tr>\n",
       "    <tr>\n",
       "      <th>8640</th>\n",
       "      <td>Tunisian Victory</td>\n",
       "      <td>1944</td>\n",
       "    </tr>\n",
       "    <tr>\n",
       "      <th>8436</th>\n",
       "      <td>The Negro Soldier</td>\n",
       "      <td>1944</td>\n",
       "    </tr>\n",
       "    <tr>\n",
       "      <th>8419</th>\n",
       "      <td>The Memphis Belle: A Story of a\\nFlying Fortress</td>\n",
       "      <td>1944</td>\n",
       "    </tr>\n",
       "    <tr>\n",
       "      <th>7930</th>\n",
       "      <td>San Pietro</td>\n",
       "      <td>1945</td>\n",
       "    </tr>\n",
       "    <tr>\n",
       "      <th>1331</th>\n",
       "      <td>Five Came Back: The Reference Films</td>\n",
       "      <td>1945</td>\n",
       "    </tr>\n",
       "    <tr>\n",
       "      <th>7219</th>\n",
       "      <td>Know Your Enemy - Japan</td>\n",
       "      <td>1945</td>\n",
       "    </tr>\n",
       "    <tr>\n",
       "      <th>7575</th>\n",
       "      <td>Nazi Concentration Camps</td>\n",
       "      <td>1945</td>\n",
       "    </tr>\n",
       "    <tr>\n",
       "      <th>7743</th>\n",
       "      <td>Pioneers of African-American Cinema</td>\n",
       "      <td>1946</td>\n",
       "    </tr>\n",
       "    <tr>\n",
       "      <th>7294</th>\n",
       "      <td>Let There Be Light</td>\n",
       "      <td>1946</td>\n",
       "    </tr>\n",
       "  </tbody>\n",
       "</table>\n",
       "</div>"
      ],
      "text/plain": [
       "                                                 title  release_year\n",
       "4250                 Pioneers: First Women Filmmakers*          1925\n",
       "7790                                    Prelude to War          1942\n",
       "8205                              The Battle of Midway          1942\n",
       "8660     Undercover: How to Operate Behind Enemy Lines          1943\n",
       "8739                Why We Fight: The Battle of Russia          1943\n",
       "8763                   WWII: Report from the Aleutians          1943\n",
       "8640                                  Tunisian Victory          1944\n",
       "8436                                 The Negro Soldier          1944\n",
       "8419  The Memphis Belle: A Story of a\\nFlying Fortress          1944\n",
       "7930                                        San Pietro          1945\n",
       "1331               Five Came Back: The Reference Films          1945\n",
       "7219                           Know Your Enemy - Japan          1945\n",
       "7575                          Nazi Concentration Camps          1945\n",
       "7743               Pioneers of African-American Cinema          1946\n",
       "7294                                Let There Be Light          1946"
      ]
     },
     "execution_count": 87,
     "metadata": {},
     "output_type": "execute_result"
    }
   ],
   "source": [
    "old = df.sort_values('release_year', ascending = True)\n",
    "old = old[old['duration'] !='']\n",
    "old[['title', 'release_year']][:15]"
   ]
  },
  {
   "cell_type": "code",
   "execution_count": 88,
   "id": "a445beac",
   "metadata": {},
   "outputs": [
    {
     "data": {
      "text/plain": [
       "Dramas, International Movies                          362\n",
       "Documentaries                                         359\n",
       "Stand-Up Comedy                                       334\n",
       "Comedies, Dramas, International Movies                274\n",
       "Dramas, Independent Movies, International Movies      252\n",
       "                                                     ... \n",
       "Kids' TV, TV Action & Adventure, TV Dramas              1\n",
       "TV Comedies, TV Dramas, TV Horror                       1\n",
       "Children & Family Movies, Comedies, LGBTQ Movies        1\n",
       "Kids' TV, Spanish-Language TV Shows, Teen TV Shows      1\n",
       "Cult Movies, Dramas, Thrillers                          1\n",
       "Name: listed_in, Length: 514, dtype: int64"
      ]
     },
     "execution_count": 88,
     "metadata": {},
     "output_type": "execute_result"
    }
   ],
   "source": [
    "df['listed_in'].value_counts()"
   ]
  },
  {
   "cell_type": "code",
   "execution_count": 91,
   "id": "88a00c50",
   "metadata": {},
   "outputs": [
    {
     "data": {
      "text/html": [
       "<div>\n",
       "<style scoped>\n",
       "    .dataframe tbody tr th:only-of-type {\n",
       "        vertical-align: middle;\n",
       "    }\n",
       "\n",
       "    .dataframe tbody tr th {\n",
       "        vertical-align: top;\n",
       "    }\n",
       "\n",
       "    .dataframe thead th {\n",
       "        text-align: right;\n",
       "    }\n",
       "</style>\n",
       "<table border=\"1\" class=\"dataframe\">\n",
       "  <thead>\n",
       "    <tr style=\"text-align: right;\">\n",
       "      <th></th>\n",
       "      <th>show_id</th>\n",
       "      <th>type</th>\n",
       "      <th>title</th>\n",
       "      <th>country</th>\n",
       "      <th>date_added</th>\n",
       "      <th>release_year</th>\n",
       "      <th>rating</th>\n",
       "      <th>duration</th>\n",
       "      <th>listed_in</th>\n",
       "      <th>description</th>\n",
       "    </tr>\n",
       "  </thead>\n",
       "  <tbody>\n",
       "    <tr>\n",
       "      <th>5704</th>\n",
       "      <td>s5705</td>\n",
       "      <td>Movie</td>\n",
       "      <td>Richard Pryor: Live in Concert</td>\n",
       "      <td>United States</td>\n",
       "      <td>December 1, 2016</td>\n",
       "      <td>1979</td>\n",
       "      <td>TV-MA</td>\n",
       "      <td>79 min</td>\n",
       "      <td>Stand-Up Comedy</td>\n",
       "      <td>Richard Pryor's classic 1979 concert film has ...</td>\n",
       "    </tr>\n",
       "    <tr>\n",
       "      <th>6665</th>\n",
       "      <td>s6666</td>\n",
       "      <td>Movie</td>\n",
       "      <td>Eddie Murphy: Delirious</td>\n",
       "      <td>United States</td>\n",
       "      <td>April 15, 2018</td>\n",
       "      <td>1983</td>\n",
       "      <td>TV-MA</td>\n",
       "      <td>69 min</td>\n",
       "      <td>Stand-Up Comedy</td>\n",
       "      <td>Flashing the wild stand-up comedy that made hi...</td>\n",
       "    </tr>\n",
       "    <tr>\n",
       "      <th>1450</th>\n",
       "      <td>s1451</td>\n",
       "      <td>Movie</td>\n",
       "      <td>Eddie Murphy: Raw</td>\n",
       "      <td>United States</td>\n",
       "      <td>January 1, 2021</td>\n",
       "      <td>1987</td>\n",
       "      <td>R</td>\n",
       "      <td>90 min</td>\n",
       "      <td>Stand-Up Comedy</td>\n",
       "      <td>This stand-up comedy classic features Eddie Mu...</td>\n",
       "    </tr>\n",
       "    <tr>\n",
       "      <th>4237</th>\n",
       "      <td>s4238</td>\n",
       "      <td>Movie</td>\n",
       "      <td>Sam Kinison: Breaking the Rules</td>\n",
       "      <td>United States</td>\n",
       "      <td>December 31, 2018</td>\n",
       "      <td>1987</td>\n",
       "      <td>TV-MA</td>\n",
       "      <td>50 min</td>\n",
       "      <td>Stand-Up Comedy</td>\n",
       "      <td>The one-time preacher shakes and shudders as h...</td>\n",
       "    </tr>\n",
       "    <tr>\n",
       "      <th>4233</th>\n",
       "      <td>s4234</td>\n",
       "      <td>Movie</td>\n",
       "      <td>Bill Hicks: Sane Man</td>\n",
       "      <td>United States</td>\n",
       "      <td>December 31, 2018</td>\n",
       "      <td>1989</td>\n",
       "      <td>TV-MA</td>\n",
       "      <td>81 min</td>\n",
       "      <td>Stand-Up Comedy</td>\n",
       "      <td>Filmed in 1989 at a turning point in comedian ...</td>\n",
       "    </tr>\n",
       "    <tr>\n",
       "      <th>...</th>\n",
       "      <td>...</td>\n",
       "      <td>...</td>\n",
       "      <td>...</td>\n",
       "      <td>...</td>\n",
       "      <td>...</td>\n",
       "      <td>...</td>\n",
       "      <td>...</td>\n",
       "      <td>...</td>\n",
       "      <td>...</td>\n",
       "      <td>...</td>\n",
       "    </tr>\n",
       "    <tr>\n",
       "      <th>1249</th>\n",
       "      <td>s1250</td>\n",
       "      <td>Movie</td>\n",
       "      <td>Blanche Gardin: The All-Nighter</td>\n",
       "      <td>United States</td>\n",
       "      <td>March 1, 2021</td>\n",
       "      <td>2021</td>\n",
       "      <td>TV-MA</td>\n",
       "      <td>96 min</td>\n",
       "      <td>Stand-Up Comedy</td>\n",
       "      <td>With self-deprecating humor, French comic Blan...</td>\n",
       "    </tr>\n",
       "    <tr>\n",
       "      <th>1278</th>\n",
       "      <td>s1279</td>\n",
       "      <td>Movie</td>\n",
       "      <td>Brian Regan: On the Rocks</td>\n",
       "      <td>United States</td>\n",
       "      <td>February 23, 2021</td>\n",
       "      <td>2021</td>\n",
       "      <td>TV-G</td>\n",
       "      <td>58 min</td>\n",
       "      <td>Stand-Up Comedy</td>\n",
       "      <td>Brian Regan tackles the big issues weighing on...</td>\n",
       "    </tr>\n",
       "    <tr>\n",
       "      <th>1315</th>\n",
       "      <td>s1316</td>\n",
       "      <td>Movie</td>\n",
       "      <td>Hate by Dani Rovira</td>\n",
       "      <td>Spain</td>\n",
       "      <td>February 12, 2021</td>\n",
       "      <td>2021</td>\n",
       "      <td>TV-MA</td>\n",
       "      <td>83 min</td>\n",
       "      <td>Stand-Up Comedy</td>\n",
       "      <td>From his hometown of Málaga, Dani Rovira refle...</td>\n",
       "    </tr>\n",
       "    <tr>\n",
       "      <th>1172</th>\n",
       "      <td>s1173</td>\n",
       "      <td>Movie</td>\n",
       "      <td>Loyiso Gola: Unlearning</td>\n",
       "      <td>South Africa</td>\n",
       "      <td>March 23, 2021</td>\n",
       "      <td>2021</td>\n",
       "      <td>TV-MA</td>\n",
       "      <td>60 min</td>\n",
       "      <td>Stand-Up Comedy</td>\n",
       "      <td>South African comedian Loyiso Gola serves up f...</td>\n",
       "    </tr>\n",
       "    <tr>\n",
       "      <th>278</th>\n",
       "      <td>s279</td>\n",
       "      <td>Movie</td>\n",
       "      <td>Lokillo: Nothing's the Same</td>\n",
       "      <td>Colombia</td>\n",
       "      <td>August 12, 2021</td>\n",
       "      <td>2021</td>\n",
       "      <td>TV-MA</td>\n",
       "      <td>64 min</td>\n",
       "      <td>Stand-Up Comedy</td>\n",
       "      <td>Through songs and puns, comedian Lokillo Flore...</td>\n",
       "    </tr>\n",
       "  </tbody>\n",
       "</table>\n",
       "<p>334 rows × 10 columns</p>\n",
       "</div>"
      ],
      "text/plain": [
       "     show_id   type                            title        country  \\\n",
       "5704   s5705  Movie   Richard Pryor: Live in Concert  United States   \n",
       "6665   s6666  Movie          Eddie Murphy: Delirious  United States   \n",
       "1450   s1451  Movie                Eddie Murphy: Raw  United States   \n",
       "4237   s4238  Movie  Sam Kinison: Breaking the Rules  United States   \n",
       "4233   s4234  Movie             Bill Hicks: Sane Man  United States   \n",
       "...      ...    ...                              ...            ...   \n",
       "1249   s1250  Movie  Blanche Gardin: The All-Nighter  United States   \n",
       "1278   s1279  Movie        Brian Regan: On the Rocks  United States   \n",
       "1315   s1316  Movie              Hate by Dani Rovira          Spain   \n",
       "1172   s1173  Movie          Loyiso Gola: Unlearning   South Africa   \n",
       "278     s279  Movie      Lokillo: Nothing's the Same       Colombia   \n",
       "\n",
       "             date_added  release_year rating duration        listed_in  \\\n",
       "5704   December 1, 2016          1979  TV-MA   79 min  Stand-Up Comedy   \n",
       "6665     April 15, 2018          1983  TV-MA   69 min  Stand-Up Comedy   \n",
       "1450    January 1, 2021          1987      R   90 min  Stand-Up Comedy   \n",
       "4237  December 31, 2018          1987  TV-MA   50 min  Stand-Up Comedy   \n",
       "4233  December 31, 2018          1989  TV-MA   81 min  Stand-Up Comedy   \n",
       "...                 ...           ...    ...      ...              ...   \n",
       "1249      March 1, 2021          2021  TV-MA   96 min  Stand-Up Comedy   \n",
       "1278  February 23, 2021          2021   TV-G   58 min  Stand-Up Comedy   \n",
       "1315  February 12, 2021          2021  TV-MA   83 min  Stand-Up Comedy   \n",
       "1172     March 23, 2021          2021  TV-MA   60 min  Stand-Up Comedy   \n",
       "278     August 12, 2021          2021  TV-MA   64 min  Stand-Up Comedy   \n",
       "\n",
       "                                            description  \n",
       "5704  Richard Pryor's classic 1979 concert film has ...  \n",
       "6665  Flashing the wild stand-up comedy that made hi...  \n",
       "1450  This stand-up comedy classic features Eddie Mu...  \n",
       "4237  The one-time preacher shakes and shudders as h...  \n",
       "4233  Filmed in 1989 at a turning point in comedian ...  \n",
       "...                                                 ...  \n",
       "1249  With self-deprecating humor, French comic Blan...  \n",
       "1278  Brian Regan tackles the big issues weighing on...  \n",
       "1315  From his hometown of Málaga, Dani Rovira refle...  \n",
       "1172  South African comedian Loyiso Gola serves up f...  \n",
       "278   Through songs and puns, comedian Lokillo Flore...  \n",
       "\n",
       "[334 rows x 10 columns]"
      ]
     },
     "execution_count": 91,
     "metadata": {},
     "output_type": "execute_result"
    }
   ],
   "source": [
    "df.loc[df['listed_in'] == 'Stand-Up Comedy'].sort_values(by= 'release_year', ascending = True)"
   ]
  },
  {
   "cell_type": "code",
   "execution_count": 92,
   "id": "c4f3552f",
   "metadata": {},
   "outputs": [
    {
     "data": {
      "text/html": [
       "<div>\n",
       "<style scoped>\n",
       "    .dataframe tbody tr th:only-of-type {\n",
       "        vertical-align: middle;\n",
       "    }\n",
       "\n",
       "    .dataframe tbody tr th {\n",
       "        vertical-align: top;\n",
       "    }\n",
       "\n",
       "    .dataframe thead th {\n",
       "        text-align: right;\n",
       "    }\n",
       "</style>\n",
       "<table border=\"1\" class=\"dataframe\">\n",
       "  <thead>\n",
       "    <tr style=\"text-align: right;\">\n",
       "      <th></th>\n",
       "      <th>show_id</th>\n",
       "      <th>type</th>\n",
       "      <th>title</th>\n",
       "      <th>country</th>\n",
       "      <th>date_added</th>\n",
       "      <th>release_year</th>\n",
       "      <th>rating</th>\n",
       "      <th>duration</th>\n",
       "      <th>listed_in</th>\n",
       "      <th>description</th>\n",
       "    </tr>\n",
       "  </thead>\n",
       "  <tbody>\n",
       "    <tr>\n",
       "      <th>8523</th>\n",
       "      <td>s8524</td>\n",
       "      <td>TV Show</td>\n",
       "      <td>The Super Mario Bros. Super Show!</td>\n",
       "      <td>United States, Canada</td>\n",
       "      <td>May 22, 2016</td>\n",
       "      <td>1989</td>\n",
       "      <td>TV-Y7</td>\n",
       "      <td>1 Season</td>\n",
       "      <td>Kids' TV</td>\n",
       "      <td>Mixing live action and animation, this classic...</td>\n",
       "    </tr>\n",
       "    <tr>\n",
       "      <th>813</th>\n",
       "      <td>s814</td>\n",
       "      <td>TV Show</td>\n",
       "      <td>The Adventures of Sonic the Hedgehog</td>\n",
       "      <td>United States, Canada</td>\n",
       "      <td>June 2, 2021</td>\n",
       "      <td>1993</td>\n",
       "      <td>TV-Y7</td>\n",
       "      <td>1 Season</td>\n",
       "      <td>Kids' TV</td>\n",
       "      <td>Hyper hedgehog Sonic and his cohort Miles \"Tai...</td>\n",
       "    </tr>\n",
       "    <tr>\n",
       "      <th>8669</th>\n",
       "      <td>s8670</td>\n",
       "      <td>TV Show</td>\n",
       "      <td>V.R. Troopers</td>\n",
       "      <td>United States</td>\n",
       "      <td>January 1, 2016</td>\n",
       "      <td>1995</td>\n",
       "      <td>TV-G</td>\n",
       "      <td>2 Seasons</td>\n",
       "      <td>Kids' TV</td>\n",
       "      <td>Three friends who study martial arts find them...</td>\n",
       "    </tr>\n",
       "    <tr>\n",
       "      <th>7455</th>\n",
       "      <td>s7456</td>\n",
       "      <td>TV Show</td>\n",
       "      <td>Mighty Morphin Alien Rangers</td>\n",
       "      <td>United States</td>\n",
       "      <td>January 1, 2016</td>\n",
       "      <td>1996</td>\n",
       "      <td>TV-Y7</td>\n",
       "      <td>1 Season</td>\n",
       "      <td>Kids' TV</td>\n",
       "      <td>Visitors arrive from space to help Red Ranger ...</td>\n",
       "    </tr>\n",
       "    <tr>\n",
       "      <th>7785</th>\n",
       "      <td>s7786</td>\n",
       "      <td>TV Show</td>\n",
       "      <td>Power Rangers Zeo</td>\n",
       "      <td>United States, France, Japan</td>\n",
       "      <td>January 1, 2016</td>\n",
       "      <td>1996</td>\n",
       "      <td>TV-Y7</td>\n",
       "      <td>1 Season</td>\n",
       "      <td>Kids' TV</td>\n",
       "      <td>This \"Mighty Morphin Power Rangers\" spinoff fi...</td>\n",
       "    </tr>\n",
       "    <tr>\n",
       "      <th>...</th>\n",
       "      <td>...</td>\n",
       "      <td>...</td>\n",
       "      <td>...</td>\n",
       "      <td>...</td>\n",
       "      <td>...</td>\n",
       "      <td>...</td>\n",
       "      <td>...</td>\n",
       "      <td>...</td>\n",
       "      <td>...</td>\n",
       "      <td>...</td>\n",
       "    </tr>\n",
       "    <tr>\n",
       "      <th>1245</th>\n",
       "      <td>s1246</td>\n",
       "      <td>TV Show</td>\n",
       "      <td>Word Party</td>\n",
       "      <td>United States</td>\n",
       "      <td>March 2, 2021</td>\n",
       "      <td>2021</td>\n",
       "      <td>TV-Y</td>\n",
       "      <td>5 Seasons</td>\n",
       "      <td>Kids' TV</td>\n",
       "      <td>Meet Bailey, Franny, Kip and Lulu. They're ado...</td>\n",
       "    </tr>\n",
       "    <tr>\n",
       "      <th>1380</th>\n",
       "      <td>s1381</td>\n",
       "      <td>TV Show</td>\n",
       "      <td>Go Dog Go</td>\n",
       "      <td>United States, United Kingdom</td>\n",
       "      <td>January 26, 2021</td>\n",
       "      <td>2021</td>\n",
       "      <td>TV-Y</td>\n",
       "      <td>1 Season</td>\n",
       "      <td>Kids' TV</td>\n",
       "      <td>Handy and inventive pup Tag chases adventure w...</td>\n",
       "    </tr>\n",
       "    <tr>\n",
       "      <th>1395</th>\n",
       "      <td>s1396</td>\n",
       "      <td>TV Show</td>\n",
       "      <td>Hello Ninja</td>\n",
       "      <td>United States</td>\n",
       "      <td>January 19, 2021</td>\n",
       "      <td>2021</td>\n",
       "      <td>TV-Y</td>\n",
       "      <td>4 Seasons</td>\n",
       "      <td>Kids' TV</td>\n",
       "      <td>BFFs Wesley and Georgie and their silly cat si...</td>\n",
       "    </tr>\n",
       "    <tr>\n",
       "      <th>547</th>\n",
       "      <td>s548</td>\n",
       "      <td>TV Show</td>\n",
       "      <td>We the People</td>\n",
       "      <td>United States</td>\n",
       "      <td>July 4, 2021</td>\n",
       "      <td>2021</td>\n",
       "      <td>TV-Y7</td>\n",
       "      <td>1 Season</td>\n",
       "      <td>Kids' TV</td>\n",
       "      <td>Learn the basics of rights and citizenship wit...</td>\n",
       "    </tr>\n",
       "    <tr>\n",
       "      <th>719</th>\n",
       "      <td>s720</td>\n",
       "      <td>TV Show</td>\n",
       "      <td>Power Rangers Dino Fury</td>\n",
       "      <td>United States</td>\n",
       "      <td>June 15, 2021</td>\n",
       "      <td>2021</td>\n",
       "      <td>TV-G</td>\n",
       "      <td>1 Season</td>\n",
       "      <td>Kids' TV</td>\n",
       "      <td>With the prehistoric force of the dinosaurs, a...</td>\n",
       "    </tr>\n",
       "  </tbody>\n",
       "</table>\n",
       "<p>220 rows × 10 columns</p>\n",
       "</div>"
      ],
      "text/plain": [
       "     show_id     type                                 title  \\\n",
       "8523   s8524  TV Show     The Super Mario Bros. Super Show!   \n",
       "813     s814  TV Show  The Adventures of Sonic the Hedgehog   \n",
       "8669   s8670  TV Show                         V.R. Troopers   \n",
       "7455   s7456  TV Show          Mighty Morphin Alien Rangers   \n",
       "7785   s7786  TV Show                     Power Rangers Zeo   \n",
       "...      ...      ...                                   ...   \n",
       "1245   s1246  TV Show                            Word Party   \n",
       "1380   s1381  TV Show                             Go Dog Go   \n",
       "1395   s1396  TV Show                           Hello Ninja   \n",
       "547     s548  TV Show                         We the People   \n",
       "719     s720  TV Show               Power Rangers Dino Fury   \n",
       "\n",
       "                            country        date_added  release_year rating  \\\n",
       "8523          United States, Canada      May 22, 2016          1989  TV-Y7   \n",
       "813           United States, Canada      June 2, 2021          1993  TV-Y7   \n",
       "8669                  United States   January 1, 2016          1995   TV-G   \n",
       "7455                  United States   January 1, 2016          1996  TV-Y7   \n",
       "7785   United States, France, Japan   January 1, 2016          1996  TV-Y7   \n",
       "...                             ...               ...           ...    ...   \n",
       "1245                  United States     March 2, 2021          2021   TV-Y   \n",
       "1380  United States, United Kingdom  January 26, 2021          2021   TV-Y   \n",
       "1395                  United States  January 19, 2021          2021   TV-Y   \n",
       "547                   United States      July 4, 2021          2021  TV-Y7   \n",
       "719                   United States     June 15, 2021          2021   TV-G   \n",
       "\n",
       "       duration listed_in                                        description  \n",
       "8523   1 Season  Kids' TV  Mixing live action and animation, this classic...  \n",
       "813    1 Season  Kids' TV  Hyper hedgehog Sonic and his cohort Miles \"Tai...  \n",
       "8669  2 Seasons  Kids' TV  Three friends who study martial arts find them...  \n",
       "7455   1 Season  Kids' TV  Visitors arrive from space to help Red Ranger ...  \n",
       "7785   1 Season  Kids' TV  This \"Mighty Morphin Power Rangers\" spinoff fi...  \n",
       "...         ...       ...                                                ...  \n",
       "1245  5 Seasons  Kids' TV  Meet Bailey, Franny, Kip and Lulu. They're ado...  \n",
       "1380   1 Season  Kids' TV  Handy and inventive pup Tag chases adventure w...  \n",
       "1395  4 Seasons  Kids' TV  BFFs Wesley and Georgie and their silly cat si...  \n",
       "547    1 Season  Kids' TV  Learn the basics of rights and citizenship wit...  \n",
       "719    1 Season  Kids' TV  With the prehistoric force of the dinosaurs, a...  \n",
       "\n",
       "[220 rows x 10 columns]"
      ]
     },
     "execution_count": 92,
     "metadata": {},
     "output_type": "execute_result"
    }
   ],
   "source": [
    "df.loc[df['listed_in'] == \"Kids' TV\"].sort_values(by= 'release_year', ascending = True)"
   ]
  },
  {
   "cell_type": "code",
   "execution_count": 99,
   "id": "5009efaa",
   "metadata": {},
   "outputs": [
    {
     "data": {
      "text/html": [
       "<div>\n",
       "<style scoped>\n",
       "    .dataframe tbody tr th:only-of-type {\n",
       "        vertical-align: middle;\n",
       "    }\n",
       "\n",
       "    .dataframe tbody tr th {\n",
       "        vertical-align: top;\n",
       "    }\n",
       "\n",
       "    .dataframe thead th {\n",
       "        text-align: right;\n",
       "    }\n",
       "</style>\n",
       "<table border=\"1\" class=\"dataframe\">\n",
       "  <thead>\n",
       "    <tr style=\"text-align: right;\">\n",
       "      <th></th>\n",
       "      <th>country</th>\n",
       "    </tr>\n",
       "  </thead>\n",
       "  <tbody>\n",
       "    <tr>\n",
       "      <th>United States</th>\n",
       "      <td>3649</td>\n",
       "    </tr>\n",
       "    <tr>\n",
       "      <th>India</th>\n",
       "      <td>972</td>\n",
       "    </tr>\n",
       "    <tr>\n",
       "      <th>United Kingdom</th>\n",
       "      <td>419</td>\n",
       "    </tr>\n",
       "    <tr>\n",
       "      <th>Japan</th>\n",
       "      <td>245</td>\n",
       "    </tr>\n",
       "    <tr>\n",
       "      <th>South Korea</th>\n",
       "      <td>199</td>\n",
       "    </tr>\n",
       "    <tr>\n",
       "      <th>...</th>\n",
       "      <td>...</td>\n",
       "    </tr>\n",
       "    <tr>\n",
       "      <th>Romania, Bulgaria, Hungary</th>\n",
       "      <td>1</td>\n",
       "    </tr>\n",
       "    <tr>\n",
       "      <th>Uruguay, Guatemala</th>\n",
       "      <td>1</td>\n",
       "    </tr>\n",
       "    <tr>\n",
       "      <th>France, Senegal, Belgium</th>\n",
       "      <td>1</td>\n",
       "    </tr>\n",
       "    <tr>\n",
       "      <th>Mexico, United States, Spain, Colombia</th>\n",
       "      <td>1</td>\n",
       "    </tr>\n",
       "    <tr>\n",
       "      <th>United Arab Emirates, Jordan</th>\n",
       "      <td>1</td>\n",
       "    </tr>\n",
       "  </tbody>\n",
       "</table>\n",
       "<p>748 rows × 1 columns</p>\n",
       "</div>"
      ],
      "text/plain": [
       "                                        country\n",
       "United States                              3649\n",
       "India                                       972\n",
       "United Kingdom                              419\n",
       "Japan                                       245\n",
       "South Korea                                 199\n",
       "...                                         ...\n",
       "Romania, Bulgaria, Hungary                    1\n",
       "Uruguay, Guatemala                            1\n",
       "France, Senegal, Belgium                      1\n",
       "Mexico, United States, Spain, Colombia        1\n",
       "United Arab Emirates, Jordan                  1\n",
       "\n",
       "[748 rows x 1 columns]"
      ]
     },
     "execution_count": 99,
     "metadata": {},
     "output_type": "execute_result"
    }
   ],
   "source": [
    "df['country'].value_counts().to_frame()"
   ]
  },
  {
   "cell_type": "code",
   "execution_count": 103,
   "id": "f7a8984b",
   "metadata": {},
   "outputs": [
    {
     "data": {
      "text/html": [
       "<div>\n",
       "<style scoped>\n",
       "    .dataframe tbody tr th:only-of-type {\n",
       "        vertical-align: middle;\n",
       "    }\n",
       "\n",
       "    .dataframe tbody tr th {\n",
       "        vertical-align: top;\n",
       "    }\n",
       "\n",
       "    .dataframe thead th {\n",
       "        text-align: right;\n",
       "    }\n",
       "</style>\n",
       "<table border=\"1\" class=\"dataframe\">\n",
       "  <thead>\n",
       "    <tr style=\"text-align: right;\">\n",
       "      <th></th>\n",
       "      <th>country</th>\n",
       "      <th>count</th>\n",
       "    </tr>\n",
       "  </thead>\n",
       "  <tbody>\n",
       "    <tr>\n",
       "      <th>0</th>\n",
       "      <td>United States</td>\n",
       "      <td>3649</td>\n",
       "    </tr>\n",
       "    <tr>\n",
       "      <th>1</th>\n",
       "      <td>India</td>\n",
       "      <td>972</td>\n",
       "    </tr>\n",
       "    <tr>\n",
       "      <th>2</th>\n",
       "      <td>United Kingdom</td>\n",
       "      <td>419</td>\n",
       "    </tr>\n",
       "    <tr>\n",
       "      <th>3</th>\n",
       "      <td>Japan</td>\n",
       "      <td>245</td>\n",
       "    </tr>\n",
       "    <tr>\n",
       "      <th>4</th>\n",
       "      <td>South Korea</td>\n",
       "      <td>199</td>\n",
       "    </tr>\n",
       "  </tbody>\n",
       "</table>\n",
       "</div>"
      ],
      "text/plain": [
       "          country count\n",
       "0   United States  3649\n",
       "1           India   972\n",
       "2  United Kingdom   419\n",
       "3           Japan   245\n",
       "4     South Korea   199"
      ]
     },
     "execution_count": 103,
     "metadata": {},
     "output_type": "execute_result"
    }
   ],
   "source": [
    "df_countries = pd.DataFrame(df.country.value_counts().reset_index().values, columns = ['country', 'count'])\n",
    "df_countries.head()"
   ]
  },
  {
   "cell_type": "code",
   "execution_count": 107,
   "id": "b63b7241",
   "metadata": {},
   "outputs": [],
   "source": [
    "import plotly.express as px\n",
    "#!pip install plotly"
   ]
  },
  {
   "cell_type": "code",
   "execution_count": 112,
   "id": "15365568",
   "metadata": {},
   "outputs": [
    {
     "data": {
      "application/vnd.plotly.v1+json": {
       "config": {
        "plotlyServerURL": "https://plot.ly"
       },
       "data": [
        {
         "colorscale": [
          [
           0,
           "#636efa"
          ],
          [
           1,
           "#636efa"
          ]
         ],
         "geo": "geo",
         "hovertemplate": "locations=%{location}<extra></extra>",
         "locationmode": "country names",
         "locations": [
          "United States",
          "India",
          "United Kingdom",
          "Japan",
          "South Korea",
          "Canada",
          "Spain",
          "France",
          "Mexico",
          "Egypt",
          "Turkey",
          "Nigeria",
          "Australia",
          "Taiwan",
          "Indonesia",
          "Brazil",
          "Philippines",
          "United Kingdom, United States",
          "United States, Canada",
          "Germany",
          "China",
          "Thailand",
          "Argentina",
          "Hong Kong",
          "United States, United Kingdom",
          "Italy",
          "Canada, United States",
          "Colombia",
          "South Africa",
          "France, Belgium",
          "Poland",
          "Singapore",
          "Malaysia",
          "Netherlands",
          "Pakistan",
          "United States, Germany",
          "United States, Japan",
          "United States, France",
          "Hong Kong, China",
          "Lebanon",
          "Russia",
          "Chile",
          "United Arab Emirates",
          "China, Hong Kong",
          "United States, Mexico",
          "Denmark",
          "Australia, United States",
          "Mexico, United States",
          "Sweden",
          "Germany, United States",
          "Israel",
          "New Zealand",
          "Japan, United States",
          "United States, Australia",
          "Norway",
          "France, United States",
          "India, United States",
          "Ireland",
          "United States, India",
          "Belgium",
          "Argentina, Spain",
          "United Kingdom, Canada, United States",
          "United States, China",
          "Saudi Arabia",
          "Vietnam",
          "United States, France, Japan",
          "United Kingdom, France",
          "Romania",
          "Kuwait",
          "South Korea, United States",
          "United States, Czech Republic",
          "Italy, France",
          "United States, New Zealand",
          "Spain, France",
          "Austria",
          "United States, Italy",
          "India, France",
          "Israel, United States",
          "Iceland",
          "South Africa, United States",
          "United Kingdom, France, United States",
          "United States, Russia",
          "Italy, United States",
          "United Kingdom, United States, Spain, Germany, Greece, Canada",
          "United States, United Kingdom, France",
          "Peru",
          "United States, Spain",
          "Poland, United States",
          "United States, Bulgaria",
          "Canada, United States, United Kingdom",
          "Hungary",
          "Mexico, Spain",
          "Hong Kong, United States",
          "United States, United Kingdom, Australia",
          "United Kingdom, Canada",
          "United Kingdom, Germany",
          "Spain, Germany",
          "United States, Sweden",
          "Sweden, United States",
          "United Kingdom, Japan, United States",
          "United States, Chile",
          "Denmark, United States",
          "France, Egypt",
          "China, United Kingdom",
          "Uruguay",
          "United States, South Africa",
          "United States, Hong Kong",
          "United Kingdom, Ireland",
          "Ghana",
          "Kenya",
          "Spain, Argentina",
          "Belgium, France",
          "United States, Colombia",
          "United Kingdom, United States, Australia",
          "Bangladesh",
          "France, Canada",
          "China, Canada, United States",
          "Bulgaria, United States",
          "United States, United Arab Emirates",
          "United States, Ireland",
          "United States, Germany, Canada",
          "Ireland, United Kingdom, United States",
          "New Zealand, United States",
          "United States, Greece",
          "United States, Nigeria",
          "Singapore, United States",
          "Canada, United Kingdom, United States",
          "Ukraine",
          "Argentina, Chile",
          "Turkey, United States",
          "United States, South Korea",
          "Netherlands, Belgium",
          "United States, Thailand",
          "Portugal, Spain",
          "Brazil, France",
          "Canada, United States, France",
          "United Kingdom, Belgium",
          "France, Japan, United States",
          "Belgium, Netherlands",
          "Czech Republic, United States",
          "United States, Argentina",
          "Australia, United Arab Emirates",
          "Canada, United Kingdom",
          "Switzerland",
          "China, United States",
          "Australia, Canada",
          "United States, Japan, Canada",
          "Serbia, United States",
          "Canada, India",
          "United States, United Kingdom, Germany",
          "Canada, Australia",
          "Lebanon, Canada, France",
          "Pakistan, United States",
          "Thailand, United States",
          "Ireland, United Kingdom",
          "Spain, United Kingdom",
          "Spain, Italy",
          "United Kingdom, Italy",
          "France, United Kingdom, United States",
          "Indonesia, Singapore",
          "India, Soviet Union",
          "Hong Kong, China, United States",
          "Jordan",
          "United States, China, Hong Kong",
          "United Kingdom, India",
          "Egypt, France",
          "India, United Kingdom",
          "Germany, United Kingdom",
          "United Kingdom, Germany, United States",
          "Germany, Czech Republic",
          "China, Taiwan",
          "United Arab Emirates, United States",
          "United Kingdom, Nigeria",
          "Colombia, Mexico, United States",
          "United States, South Korea, China",
          "Canada, South Africa",
          "Australia, United Kingdom",
          "Spain, Mexico",
          "Norway, Iceland, United States",
          "United Kingdom,",
          "United Kingdom, United States, France",
          "United Kingdom, France, Germany, United States",
          "India, Germany",
          "United Kingdom, India, United States",
          "United States, United Kingdom, Canada",
          "Pakistan, Norway, United States",
          "France, Germany, Switzerland",
          "United States, United Kingdom, Denmark, Sweden",
          "United States, Canada, Belgium, United Kingdom",
          "Germany, United States, Hong Kong, Singapore",
          "Germany, Australia",
          "Spain, France, Italy",
          "Germany, France, Luxembourg, United Kingdom, United States",
          "Venezuela",
          "Taiwan, Hong Kong, United States, China",
          "Germany, Belgium",
          "Canada, Spain, France",
          "United States, Indonesia",
          "Czech Republic, France",
          "United Kingdom, Canada, Italy",
          "United States, France, Mexico",
          "France, China, Japan, United States",
          "United Kingdom, Czech Republic, Germany, United States",
          "United States, Nicaragua",
          "United States, Italy, United Kingdom, Liechtenstein",
          "Denmark, France, Belgium, Italy, Netherlands, United States, United Kingdom",
          "United States, Australia, Mexico",
          "Canada, France, Italy, Morocco, United States",
          "Italy, Canada, France",
          "United Kingdom, Denmark, Canada, Croatia",
          "South Africa, United States, New Zealand, Canada",
          "Italy, Germany",
          "Finland, Sweden, Norway, Latvia, Germany",
          "Turkey, France, Germany, Poland",
          "United States, Brazil",
          "United States, France, United Kingdom, Japan",
          "Brazil, France, Germany",
          "Spain, Cuba",
          "United Kingdom, South Africa",
          "Denmark, Zimbabwe",
          "United Kingdom, Israel, Russia",
          "United Arab Emirates, United States, United Kingdom",
          "Greece, United States",
          "United Kingdom, Poland, United States",
          "Singapore, France",
          "United States, Canada, France",
          "Argentina, Uruguay, Spain, France",
          "United States, Hungary",
          "United Kingdom, Italy, Israel, Peru, United States",
          "France, Germany",
          "France, Qatar",
          "United Kingdom, Germany, Canada",
          "Ireland, South Africa",
          "United States, Colombia, Mexico",
          "Chile, United States, France",
          "Belgium, France, Netherlands",
          "United Kingdom, Ukraine, United States",
          "Germany, Australia, France, China",
          "United States, Denmark",
          "Norway, United States",
          "United States, Bermuda, Ecuador",
          "United States, Hungary, Ireland, Canada",
          "Canada, Japan, Netherlands",
          "United Kingdom, France, United States, Belgium",
          "United States, France, United Kingdom",
          "France, Canada, China, Cambodia",
          "France, United Kingdom, India",
          "Netherlands, United States",
          "Spain, Switzerland",
          "United States, Australia, China",
          "South Africa, United States, Germany",
          "Spain, Italy, Argentina",
          "Chile, Spain, Argentina, Germany",
          "Chile, France",
          "West Germany",
          "Austria, Czech Republic",
          "Lebanon, Qatar",
          "United Kingdom, France, Belgium, United States",
          "United Kingdom, Jordan, Qatar, Iran",
          "France, South Korea, Japan",
          "Israel, Germany, France",
          "United Kingdom, Egypt, United States",
          "Spain, Mexico, France",
          "United States, India, Bangladesh",
          "France, United States, Mexico",
          "Australia, Armenia, Japan, Jordan, Mexico, Mongolia, New Zealand, Philippines, South Africa, Sweden, United States, Uruguay",
          "India, Iran",
          "Norway, Germany",
          "France, Belgium, Spain",
          "Denmark, Sweden, Israel, United States",
          "United States, Iceland",
          "United Kingdom, Russia",
          "United States, Israel, Italy, South Africa",
          "Netherlands, Denmark, France, Germany",
          "South Korea, Japan",
          "United Kingdom, Pakistan",
          "France, New Zealand",
          "United Kingdom, Czech Republic, United States, Germany, Bahamas",
          "China, Germany, India, United States",
          "Germany, Sri Lanka",
          "Australia, United Kingdom, United Arab Emirates, Canada",
          "Sweden, Netherlands",
          "Hong Kong, China, Singapore",
          "France, Morocco",
          "United States, United Kingdom, Italy",
          "Denmark, France, Poland",
          "New Zealand, United Kingdom",
          "Netherlands, Denmark, South Africa",
          "Iran, France",
          "United Kingdom, United States, France, Germany",
          "Australia, France",
          "United Kingdom, France, Germany",
          "Canada, Luxembourg",
          "Brazil, Netherlands, United States, Colombia, Austria, Germany",
          "France, Canada, Belgium",
          "Cambodia, United States",
          "Canada, France",
          "Bulgaria, United States, Spain, Canada",
          "Czech Republic, Slovakia",
          "South Africa, China, United States",
          "Brazil, India, China, United States",
          "United States, France, Canada, Spain",
          "Israel, Germany, Poland, Luxembourg, Belgium, France, United States",
          "Spain, France, Uruguay",
          "France, Canada, United States",
          "United States, Canada, China",
          "Ireland, Canada, Luxembourg, United States, United Kingdom, Philippines, India",
          "United States, Czech Republic, United Kingdom",
          "Israel, Germany",
          "Mexico, France",
          "Austria, United States",
          "United States, New Zealand, United Kingdom",
          "United Kingdom, Lithuania",
          "United States, Greece, United Kingdom",
          "United Kingdom, China, United States, India",
          "United States, Sweden, Norway",
          "United Kingdom, United States, Morocco",
          "United States, United Kingdom, Morocco",
          "Spain, Canada, United States",
          "Finland, United States",
          "United States, Germany, United Kingdom, Italy",
          "Guatemala",
          "Czech Republic, United Kingdom, France",
          "United States, Germany, United Kingdom, Australia",
          "Italy, France, Switzerland",
          "Canada, France, United States",
          "Switzerland, United States",
          "Thailand, Canada, United States",
          "China, Hong Kong, United States",
          "United Kingdom, New Zealand",
          "Australia, United Kingdom, Canada",
          "United States, Germany, United Kingdom",
          "Jamaica, United States",
          "Australia, United Kingdom, United States, New Zealand, Italy, France",
          "France, United States, Canada",
          "United Kingdom, France, Canada, Belgium, United States",
          "Denmark, United Kingdom, Sweden",
          "United States, Kazakhstan",
          "Argentina, France, United States, Germany, Qatar",
          "United States, India, United Arab Emirates",
          "United Kingdom, Canada, France, United States",
          "India, Germany, France",
          "Germany, United States, United Kingdom, Canada",
          "United Kingdom, Brazil, Germany",
          "United Kingdom, Namibia, South Africa, Zimbabwe, United States",
          "Canada, United States, India, United Kingdom",
          "Switzerland, United Kingdom, United States",
          "United Kingdom, India, Sweden",
          "United States, Brazil, India, Uganda, China",
          "Peru, United States, United Kingdom",
          "Canada, India, Thailand, United States, United Arab Emirates",
          "Belgium, Ireland, Netherlands, Germany, Afghanistan",
          "United States, East Germany, West Germany",
          "France, Netherlands, South Africa, Finland",
          "Egypt, Austria, United States",
          "Russia, Spain",
          "Croatia, Slovenia, Serbia, Montenegro",
          "Japan, Canada",
          "United States, France, South Korea, Indonesia",
          "United Kingdom, China, United States",
          "United Kingdom, United States, Czech Republic",
          "United Kingdom, Canada, Japan",
          "United States, Venezuela",
          "France, Canada, Italy, United States, China",
          "Ireland, United Kingdom, Greece, France, Netherlands",
          "Denmark, Indonesia, Finland, Norway, United Kingdom, Israel, France, United States, Germany, Netherlands",
          "United States, Australia, South Africa, United Kingdom",
          "United States, Germany, Mexico",
          "Somalia, Kenya, Sudan, South Africa, United States",
          "United States, Canada, Japan, Panama",
          "United Kingdom, Spain, Belgium",
          "Serbia, South Korea, Slovenia",
          "Denmark, United Kingdom, South Africa, Sweden, Belgium",
          "Germany, Canada, United States",
          "Ireland, Canada, United States, United Kingdom",
          "New Zealand, United Kingdom, Australia",
          "United Kingdom, Australia, Canada, United States",
          "Germany, United States, Italy",
          "Italy, South Africa, West Germany, Australia, United States",
          "United States, United Kingdom, Spain, South Korea",
          "Russia, United States, China",
          "Denmark, China",
          "Netherlands, Belgium, United Kingdom, United States",
          "France, Belgium, China, United States",
          "United States, Chile, Israel",
          "United Kingdom, Norway, Denmark, Germany, Sweden",
          "Norway, Denmark, Sweden",
          "China, India, Nepal",
          "United Kingdom, South Korea",
          "United States, Greece, Brazil",
          "United Kingdom, Germany, Canada, United States",
          "South Korea, France",
          "United States, Australia, Samoa, United Kingdom",
          "Argentina, Chile, Peru",
          "Turkey, Azerbaijan",
          "Poland, West Germany",
          "Germany, United States, Sweden",
          "Canada, Spain",
          "United States, France, Canada, Lebanon, Qatar",
          "Germany, United States, Canada",
          "Hong Kong, Taiwan",
          "India, Japan",
          "United States, Canada, Germany",
          "Ireland, United States",
          "Ireland, United Kingdom, Italy, United States",
          "Poland,",
          "Slovenia, Croatia, Germany, Czech Republic, Qatar",
          "Canada, United Kingdom, Netherlands",
          "United States, Spain, Germany",
          "China, South Korea, United States",
          "Ireland, United States, France",
          "United Kingdom, France, Belgium",
          "Canada, Ireland, United States",
          "United Kingdom, United States, Dominican Republic",
          "United States, Senegal",
          "Germany, United Kingdom, United States",
          "South Africa, Germany, Netherlands, France",
          "Canada, United States, United Kingdom, France, Luxembourg",
          "United States, Cambodia",
          "Norway, United Kingdom, France, Ireland",
          "United Kingdom, Poland",
          "Germany, France, United States, Canada, United Kingdom",
          "United States, New Zealand, Japan",
          "United States, Netherlands, Japan, France",
          "India, Switzerland",
          "United States, Morocco",
          "Singapore, Japan, France",
          "Canada, Mexico, Germany, South Africa",
          "United Kingdom, United States, Canada",
          "United States, Uruguay",
          "Israel, Sweden, Germany, Netherlands",
          "India, Canada",
          "Ireland, Canada, United Kingdom, United States",
          "United States, Germany, Australia",
          "Australia, France, Ireland",
          "Australia, India",
          "United States, United Kingdom, Canada, Japan",
          "Sweden, United Kingdom, Finland",
          "Portugal, France, Poland, United States",
          "Switzerland, Vatican City, Italy, Germany, France",
          "France, Germany, Czech Republic, Belgium",
          "Colombia, United States",
          "Switzerland, France",
          "Italy, India",
          "United States, Botswana",
          "Chile, Argentina, France, Spain, United States",
          "United States, India, South Korea, China",
          "Denmark, Germany, Belgium, United Kingdom, France",
          "Denmark, Germany, Belgium, United Kingdom, France, Sweden",
          "France, Switzerland, Spain, United States, United Arab Emirates",
          "India, Malaysia",
          "Denmark, France, United States, Sweden",
          "Australia, Iraq",
          "China, Morocco, Hong Kong",
          "Canada, United States, Germany",
          "United Kingdom, Thailand",
          "Venezuela, Colombia",
          "Germany, Jordan, Netherlands",
          "United Kingdom, Belgium, Sweden",
          "United Arab Emirates, Romania",
          "Saudi Arabia, United Arab Emirates",
          "Canada, United States, Ireland",
          "Japan, Canada, United States",
          "Spain, France, Canada",
          "Denmark, Singapore, Canada, United States",
          "United States, France, Denmark",
          "United States, China, Colombia",
          "Spain, Thailand, United States",
          "Ireland, Luxembourg, Belgium",
          "Canada, Belgium",
          "Lebanon, United Arab Emirates, France, Switzerland, Germany",
          "France, Belgium, Italy",
          "Lebanon, United States, United Arab Emirates",
          "Lebanon, France",
          "France, Lebanon",
          "France, Lebanon, United Kingdom",
          "United States, China, Canada",
          "United States, Malta, France, United Kingdom",
          "United Kingdom, Singapore",
          "Canada, Hungary, United States",
          "United States, Cambodia, Romania",
          "Spain, Belgium, United States",
          "Portugal, United States",
          "United Kingdom, Spain, United States",
          "Hungary, United States",
          "Canada, United States, Cayman Islands",
          "United Kingdom, Germany, France, United States",
          "United States, Ireland, United Kingdom, India",
          "Senegal",
          "France, Algeria",
          "United Kingdom, Finland, Germany, United States, Australia, Japan, France, Ireland",
          "Philippines, Canada, United Kingdom, United States",
          "Ireland, France, Iceland, United States, Mexico, Belgium, United Kingdom, Hong Kong",
          "United States, France, Serbia",
          "France, Norway, Lebanon, Belgium",
          "Sweden, Czech Republic, United Kingdom, Denmark, Netherlands",
          "United States, United Kingdom, India",
          "Spain, France, Canada, United States",
          "China, Spain, South Korea, United States",
          "France, Belgium, Luxembourg, Cambodia,",
          "United Kingdom, Australia",
          "Belarus",
          "Indonesia, United Kingdom",
          "Switzerland, France, Belgium, United States",
          "Chile, Italy",
          "Peru, Germany, Norway",
          "France, Brazil, Spain, Belgium",
          "Egypt, Algeria",
          "Canada, South Korea, United States",
          "Nigeria, United Kingdom",
          "United States, France, Canada",
          "United Arab Emirates, Jordan, Lebanon, Saudi Arabia",
          "Mozambique",
          "United States, Canada, United Kingdom",
          "Indonesia, Netherlands",
          "United Kingdom, China",
          "Turkey, South Korea",
          "Namibia",
          "United Kingdom, Kenya",
          "United Kingdom, France, Germany, Spain",
          "United Kingdom, France, United States, Belgium, Luxembourg, China, Germany",
          "United States, France, Canada, Belgium",
          "Germany, China, United Kingdom",
          "United States, United Kingdom, Canada, China",
          "Australia, New Zealand, United States",
          "Hong Kong, Iceland, United States",
          "France, Australia, Germany",
          "United States, Belgium, Canada, France",
          "South Africa, Angola",
          "United States, Philippines",
          "Luxembourg",
          "Chile, Brazil",
          "India, United Kingdom, France, Qatar",
          "Kuwait, United States",
          "Spain, France, United Kingdom, United States",
          ", France, Algeria",
          "France, Israel, Germany, United States, United Kingdom",
          "Egypt, Denmark, Germany",
          "United States, Switzerland",
          "Hong Kong, Canada, United States",
          "France, Canada, United States, Spain",
          "Switzerland, United Kingdom, Australia",
          "France, Netherlands, Singapore",
          "Ireland, United States, United Kingdom",
          "Australia, New Zealand",
          "South Korea, Czech Republic",
          "Australia, Germany",
          "United Kingdom, Australia, United States",
          "Spain, United Kingdom, United States",
          "Belgium, United Kingdom",
          "United Kingdom, United States, France, Italy",
          "United Kingdom, Australia, France",
          "United States, Ghana, Burkina Faso, United Kingdom, Germany, Ethiopia",
          "United States, India, France",
          "Finland",
          "South Africa, United States, Japan",
          "Spain, United States",
          "United States, Singapore",
          "United Kingdom, Australia, France, United States",
          "Italy, Brazil, Greece",
          "United States, Italy, France, Japan",
          "United States, Italy, Romania, United Kingdom",
          "Argentina, Venezuela",
          ", South Korea",
          "India, Nepal",
          "New Zealand, Australia, France, United States",
          "United Kingdom, Germany, Spain, United States",
          "United States, France, Italy, United Kingdom",
          "United States, India, United Kingdom",
          "Lebanon, Palestine, Denmark, Qatar",
          "Canada, United States, Mexico",
          "Czech Republic, United Kingdom, United States",
          "Italy, United Kingdom",
          "United States, Brazil, Japan, Spain, India",
          "United States, China, United Kingdom",
          "Cameroon",
          "Uruguay, Germany",
          "France, United States, United Kingdom, Canada",
          "Egypt, Saudi Arabia",
          "United Kingdom, France, Poland, Germany, United States",
          "Ireland, Switzerland, United Kingdom, France, United States",
          "United Kingdom, South Africa, France",
          "Ireland, United Kingdom, France, Germany",
          "Russia, United States",
          "France, United Kingdom",
          "Canada, Nigeria, United States",
          "United States, United Kingdom, Germany, Hungary",
          "Mexico, France, Colombia",
          "Finland, Germany",
          "Lebanon, Syria",
          "Philippines, Singapore, Indonesia",
          "China, United States, Canada",
          "Lebanon, United Arab Emirates",
          "Canada, United States, Denmark",
          "Germany, United States, France",
          "United States, United Kingdom, New Zealand",
          "Norway, Denmark",
          "Syria, France, Lebanon, Qatar",
          "Mauritius",
          "Mexico, Brazil",
          "Germany, France",
          "United Kingdom, France, Spain, United States",
          "United States, Mexico, Spain, Malta",
          "Zimbabwe",
          "Georgia, Germany, France",
          "United Kingdom, Germany, United Arab Emirates, New Zealand",
          "United Kingdom, Ireland, United States",
          "Canada, Germany, France, United States",
          "United Kingdom, Japan",
          "Norway, Denmark, Netherlands, Sweden",
          "Ireland, Canada",
          "Italy, Switzerland, France, Germany",
          "Mexico, Netherlands",
          "Germany, France, Russia",
          "France, Iran, United States",
          "Russia, Poland, Serbia",
          "Spain, Portugal",
          "Mexico, Argentina",
          "United Kingdom, Canada, United States, Cayman Islands",
          "Indonesia, United States",
          "United States, Israel, United Kingdom, Canada",
          "Uruguay, Argentina, Spain",
          "Croatia",
          "Iceland, Sweden, Belgium",
          "Mexico, Finland",
          "Denmark, Spain",
          "Chile, Argentina",
          "Canada, Brazil",
          "Canada, Germany",
          "Pakistan, United Arab Emirates",
          "Ghana, United States",
          "United Arab Emirates, United Kingdom, India",
          "Spain, Belgium",
          "United States, Taiwan",
          "Austria, Iraq, United States",
          "United Kingdom, Malawi",
          "Paraguay, Argentina",
          "United Kingdom, Russia, United States",
          "India, Pakistan",
          "United Kingdom, West Germany",
          "India, Australia",
          "United States,",
          "Netherlands, Belgium, Germany, Jordan",
          "Spain, Colombia",
          "United Kingdom, South Africa, Australia, United States",
          "Bulgaria",
          "Argentina, Brazil, France, Poland, Germany, Denmark",
          "United Kingdom, Spain, United States, Germany",
          "Philippines, Qatar",
          "Norway, Germany, Sweden",
          "Saudi Arabia, Syria, Egypt, Lebanon, Kuwait",
          "South Korea, China",
          "Georgia",
          "Soviet Union, India",
          "Canada, Germany, South Africa",
          "South Korea, China, United States",
          "India, Mexico",
          "United States, Canada, Indonesia, United Kingdom, China, Singapore",
          "Italy, United States, Argentina",
          "Belgium, United Kingdom, United States",
          "China, United States, Australia",
          "India, Germany, Austria",
          "United States, Brazil, South Korea, Mexico, Japan, Germany",
          "China, Japan",
          "Argentina, France",
          "China, United States, United Kingdom",
          "France, Luxembourg, United States",
          "Colombia, Mexico",
          "Cambodia",
          "United States, Canada, Ireland",
          "Chile, Peru",
          "Argentina, Italy",
          "Canada, Japan, United States",
          "United Kingdom, Canada, United States, Germany",
          "Italy, Switzerland, Albania, Poland",
          "France, Luxembourg, Canada",
          "Uruguay, Spain, Mexico",
          "Argentina, United States",
          "France, Malta, United States",
          "Austria, Germany",
          "Taiwan, China",
          "United Kingdom, United States, Ireland",
          "Brazil, United Kingdom",
          "Romania, France, Switzerland, Germany",
          "Romania, United Kingdom",
          "Cyprus",
          "United Kingdom, France, Belgium, Canada, United States",
          "United Kingdom, France, Belgium, Ireland, United States",
          "United States, Norway, Canada",
          "Kenya, United States",
          "France, South Korea, Japan, United States",
          "Taiwan, Malaysia",
          "Uruguay, Argentina, Germany, Spain",
          "Netherlands, Germany, Denmark, United Kingdom",
          "United States, United Kingdom, Japan",
          "Spain, France, United States",
          "India, United Kingdom, China, Canada, Japan, South Korea, United States",
          "Romania, United States",
          "Canada, Nigeria",
          "Saudi Arabia, Netherlands, Germany, Jordan, United Arab Emirates, United States",
          "United Kingdom, Spain",
          "Finland, France",
          "United Kingdom, Germany, United States, France",
          "Italy, United Kingdom, France",
          "Uruguay, Argentina",
          "United States, Mexico, Colombia",
          "Turkey, India",
          "Italy, Turkey",
          "United Kingdom, United States, Japan",
          "France, Belgium, United States",
          "Puerto Rico, United States, Colombia",
          "United States, United Kingdom, France, Germany, Japan",
          "Indonesia, South Korea, Singapore",
          "Thailand, China, United States",
          "Brazil, United States",
          "United Kingdom, Hungary, Australia",
          "Italy, Belgium",
          "Singapore, Malaysia",
          "France, Belgium, Luxembourg, Romania, Canada, United States",
          "South Africa, Nigeria",
          "United Kingdom, Hong Kong",
          "Denmark, Brazil, France, Portugal, Sweden",
          "Argentina, United States, Mexico",
          "India, Turkey",
          "Malaysia, Singapore, Hong Kong",
          "Philippines, Singapore",
          "Taiwan, China, France, United States",
          "Germany, Italy",
          "Colombia, Peru, United Kingdom",
          "United States, South Korea, Japan",
          "Finland, Germany, Belgium",
          "Netherlands, Germany, Italy, Canada",
          "United States, Poland",
          "Spain, Germany, Denmark, United States",
          "Norway, Sweden",
          "South Korea, Canada, United States, China",
          "Argentina, Uruguay, Serbia",
          "France, Japan",
          "Mauritius, South Africa",
          "United Kingdom, United States, Germany, Denmark, Belgium, Japan",
          "Canada, Norway",
          "India, United Kingdom, Canada, United States",
          "Philippines, United States",
          "Romania, Bulgaria, Hungary",
          "Uruguay, Guatemala",
          "France, Senegal, Belgium",
          "Mexico, United States, Spain, Colombia",
          "United Arab Emirates, Jordan"
         ],
         "name": "",
         "showlegend": true,
         "showscale": false,
         "type": "choropleth",
         "z": [
          1,
          1,
          1,
          1,
          1,
          1,
          1,
          1,
          1,
          1,
          1,
          1,
          1,
          1,
          1,
          1,
          1,
          1,
          1,
          1,
          1,
          1,
          1,
          1,
          1,
          1,
          1,
          1,
          1,
          1,
          1,
          1,
          1,
          1,
          1,
          1,
          1,
          1,
          1,
          1,
          1,
          1,
          1,
          1,
          1,
          1,
          1,
          1,
          1,
          1,
          1,
          1,
          1,
          1,
          1,
          1,
          1,
          1,
          1,
          1,
          1,
          1,
          1,
          1,
          1,
          1,
          1,
          1,
          1,
          1,
          1,
          1,
          1,
          1,
          1,
          1,
          1,
          1,
          1,
          1,
          1,
          1,
          1,
          1,
          1,
          1,
          1,
          1,
          1,
          1,
          1,
          1,
          1,
          1,
          1,
          1,
          1,
          1,
          1,
          1,
          1,
          1,
          1,
          1,
          1,
          1,
          1,
          1,
          1,
          1,
          1,
          1,
          1,
          1,
          1,
          1,
          1,
          1,
          1,
          1,
          1,
          1,
          1,
          1,
          1,
          1,
          1,
          1,
          1,
          1,
          1,
          1,
          1,
          1,
          1,
          1,
          1,
          1,
          1,
          1,
          1,
          1,
          1,
          1,
          1,
          1,
          1,
          1,
          1,
          1,
          1,
          1,
          1,
          1,
          1,
          1,
          1,
          1,
          1,
          1,
          1,
          1,
          1,
          1,
          1,
          1,
          1,
          1,
          1,
          1,
          1,
          1,
          1,
          1,
          1,
          1,
          1,
          1,
          1,
          1,
          1,
          1,
          1,
          1,
          1,
          1,
          1,
          1,
          1,
          1,
          1,
          1,
          1,
          1,
          1,
          1,
          1,
          1,
          1,
          1,
          1,
          1,
          1,
          1,
          1,
          1,
          1,
          1,
          1,
          1,
          1,
          1,
          1,
          1,
          1,
          1,
          1,
          1,
          1,
          1,
          1,
          1,
          1,
          1,
          1,
          1,
          1,
          1,
          1,
          1,
          1,
          1,
          1,
          1,
          1,
          1,
          1,
          1,
          1,
          1,
          1,
          1,
          1,
          1,
          1,
          1,
          1,
          1,
          1,
          1,
          1,
          1,
          1,
          1,
          1,
          1,
          1,
          1,
          1,
          1,
          1,
          1,
          1,
          1,
          1,
          1,
          1,
          1,
          1,
          1,
          1,
          1,
          1,
          1,
          1,
          1,
          1,
          1,
          1,
          1,
          1,
          1,
          1,
          1,
          1,
          1,
          1,
          1,
          1,
          1,
          1,
          1,
          1,
          1,
          1,
          1,
          1,
          1,
          1,
          1,
          1,
          1,
          1,
          1,
          1,
          1,
          1,
          1,
          1,
          1,
          1,
          1,
          1,
          1,
          1,
          1,
          1,
          1,
          1,
          1,
          1,
          1,
          1,
          1,
          1,
          1,
          1,
          1,
          1,
          1,
          1,
          1,
          1,
          1,
          1,
          1,
          1,
          1,
          1,
          1,
          1,
          1,
          1,
          1,
          1,
          1,
          1,
          1,
          1,
          1,
          1,
          1,
          1,
          1,
          1,
          1,
          1,
          1,
          1,
          1,
          1,
          1,
          1,
          1,
          1,
          1,
          1,
          1,
          1,
          1,
          1,
          1,
          1,
          1,
          1,
          1,
          1,
          1,
          1,
          1,
          1,
          1,
          1,
          1,
          1,
          1,
          1,
          1,
          1,
          1,
          1,
          1,
          1,
          1,
          1,
          1,
          1,
          1,
          1,
          1,
          1,
          1,
          1,
          1,
          1,
          1,
          1,
          1,
          1,
          1,
          1,
          1,
          1,
          1,
          1,
          1,
          1,
          1,
          1,
          1,
          1,
          1,
          1,
          1,
          1,
          1,
          1,
          1,
          1,
          1,
          1,
          1,
          1,
          1,
          1,
          1,
          1,
          1,
          1,
          1,
          1,
          1,
          1,
          1,
          1,
          1,
          1,
          1,
          1,
          1,
          1,
          1,
          1,
          1,
          1,
          1,
          1,
          1,
          1,
          1,
          1,
          1,
          1,
          1,
          1,
          1,
          1,
          1,
          1,
          1,
          1,
          1,
          1,
          1,
          1,
          1,
          1,
          1,
          1,
          1,
          1,
          1,
          1,
          1,
          1,
          1,
          1,
          1,
          1,
          1,
          1,
          1,
          1,
          1,
          1,
          1,
          1,
          1,
          1,
          1,
          1,
          1,
          1,
          1,
          1,
          1,
          1,
          1,
          1,
          1,
          1,
          1,
          1,
          1,
          1,
          1,
          1,
          1,
          1,
          1,
          1,
          1,
          1,
          1,
          1,
          1,
          1,
          1,
          1,
          1,
          1,
          1,
          1,
          1,
          1,
          1,
          1,
          1,
          1,
          1,
          1,
          1,
          1,
          1,
          1,
          1,
          1,
          1,
          1,
          1,
          1,
          1,
          1,
          1,
          1,
          1,
          1,
          1,
          1,
          1,
          1,
          1,
          1,
          1,
          1,
          1,
          1,
          1,
          1,
          1,
          1,
          1,
          1,
          1,
          1,
          1,
          1,
          1,
          1,
          1,
          1,
          1,
          1,
          1,
          1,
          1,
          1,
          1,
          1,
          1,
          1,
          1,
          1,
          1,
          1,
          1,
          1,
          1,
          1,
          1,
          1,
          1,
          1,
          1,
          1,
          1,
          1,
          1,
          1,
          1,
          1,
          1,
          1,
          1,
          1,
          1,
          1,
          1,
          1,
          1,
          1,
          1,
          1,
          1,
          1,
          1,
          1,
          1,
          1,
          1,
          1,
          1,
          1,
          1,
          1,
          1,
          1,
          1,
          1,
          1,
          1,
          1,
          1,
          1,
          1,
          1,
          1,
          1,
          1,
          1,
          1,
          1,
          1,
          1,
          1,
          1,
          1,
          1,
          1,
          1,
          1,
          1,
          1,
          1,
          1,
          1,
          1,
          1,
          1,
          1,
          1,
          1,
          1,
          1,
          1,
          1,
          1,
          1,
          1,
          1,
          1,
          1,
          1,
          1,
          1,
          1,
          1,
          1,
          1,
          1,
          1,
          1,
          1,
          1,
          1,
          1,
          1,
          1,
          1,
          1,
          1,
          1,
          1,
          1,
          1,
          1,
          1,
          1,
          1,
          1,
          1,
          1,
          1,
          1,
          1,
          1,
          1,
          1,
          1,
          1,
          1,
          1,
          1,
          1,
          1,
          1,
          1,
          1,
          1,
          1,
          1,
          1,
          1,
          1,
          1,
          1,
          1,
          1,
          1,
          1,
          1,
          1,
          1,
          1,
          1,
          1,
          1,
          1
         ]
        }
       ],
       "layout": {
        "geo": {
         "center": {},
         "domain": {
          "x": [
           0,
           1
          ],
          "y": [
           0,
           1
          ]
         }
        },
        "legend": {
         "tracegroupgap": 0
        },
        "margin": {
         "t": 60
        },
        "template": {
         "data": {
          "bar": [
           {
            "error_x": {
             "color": "#2a3f5f"
            },
            "error_y": {
             "color": "#2a3f5f"
            },
            "marker": {
             "line": {
              "color": "#E5ECF6",
              "width": 0.5
             },
             "pattern": {
              "fillmode": "overlay",
              "size": 10,
              "solidity": 0.2
             }
            },
            "type": "bar"
           }
          ],
          "barpolar": [
           {
            "marker": {
             "line": {
              "color": "#E5ECF6",
              "width": 0.5
             },
             "pattern": {
              "fillmode": "overlay",
              "size": 10,
              "solidity": 0.2
             }
            },
            "type": "barpolar"
           }
          ],
          "carpet": [
           {
            "aaxis": {
             "endlinecolor": "#2a3f5f",
             "gridcolor": "white",
             "linecolor": "white",
             "minorgridcolor": "white",
             "startlinecolor": "#2a3f5f"
            },
            "baxis": {
             "endlinecolor": "#2a3f5f",
             "gridcolor": "white",
             "linecolor": "white",
             "minorgridcolor": "white",
             "startlinecolor": "#2a3f5f"
            },
            "type": "carpet"
           }
          ],
          "choropleth": [
           {
            "colorbar": {
             "outlinewidth": 0,
             "ticks": ""
            },
            "type": "choropleth"
           }
          ],
          "contour": [
           {
            "colorbar": {
             "outlinewidth": 0,
             "ticks": ""
            },
            "colorscale": [
             [
              0,
              "#0d0887"
             ],
             [
              0.1111111111111111,
              "#46039f"
             ],
             [
              0.2222222222222222,
              "#7201a8"
             ],
             [
              0.3333333333333333,
              "#9c179e"
             ],
             [
              0.4444444444444444,
              "#bd3786"
             ],
             [
              0.5555555555555556,
              "#d8576b"
             ],
             [
              0.6666666666666666,
              "#ed7953"
             ],
             [
              0.7777777777777778,
              "#fb9f3a"
             ],
             [
              0.8888888888888888,
              "#fdca26"
             ],
             [
              1,
              "#f0f921"
             ]
            ],
            "type": "contour"
           }
          ],
          "contourcarpet": [
           {
            "colorbar": {
             "outlinewidth": 0,
             "ticks": ""
            },
            "type": "contourcarpet"
           }
          ],
          "heatmap": [
           {
            "colorbar": {
             "outlinewidth": 0,
             "ticks": ""
            },
            "colorscale": [
             [
              0,
              "#0d0887"
             ],
             [
              0.1111111111111111,
              "#46039f"
             ],
             [
              0.2222222222222222,
              "#7201a8"
             ],
             [
              0.3333333333333333,
              "#9c179e"
             ],
             [
              0.4444444444444444,
              "#bd3786"
             ],
             [
              0.5555555555555556,
              "#d8576b"
             ],
             [
              0.6666666666666666,
              "#ed7953"
             ],
             [
              0.7777777777777778,
              "#fb9f3a"
             ],
             [
              0.8888888888888888,
              "#fdca26"
             ],
             [
              1,
              "#f0f921"
             ]
            ],
            "type": "heatmap"
           }
          ],
          "heatmapgl": [
           {
            "colorbar": {
             "outlinewidth": 0,
             "ticks": ""
            },
            "colorscale": [
             [
              0,
              "#0d0887"
             ],
             [
              0.1111111111111111,
              "#46039f"
             ],
             [
              0.2222222222222222,
              "#7201a8"
             ],
             [
              0.3333333333333333,
              "#9c179e"
             ],
             [
              0.4444444444444444,
              "#bd3786"
             ],
             [
              0.5555555555555556,
              "#d8576b"
             ],
             [
              0.6666666666666666,
              "#ed7953"
             ],
             [
              0.7777777777777778,
              "#fb9f3a"
             ],
             [
              0.8888888888888888,
              "#fdca26"
             ],
             [
              1,
              "#f0f921"
             ]
            ],
            "type": "heatmapgl"
           }
          ],
          "histogram": [
           {
            "marker": {
             "pattern": {
              "fillmode": "overlay",
              "size": 10,
              "solidity": 0.2
             }
            },
            "type": "histogram"
           }
          ],
          "histogram2d": [
           {
            "colorbar": {
             "outlinewidth": 0,
             "ticks": ""
            },
            "colorscale": [
             [
              0,
              "#0d0887"
             ],
             [
              0.1111111111111111,
              "#46039f"
             ],
             [
              0.2222222222222222,
              "#7201a8"
             ],
             [
              0.3333333333333333,
              "#9c179e"
             ],
             [
              0.4444444444444444,
              "#bd3786"
             ],
             [
              0.5555555555555556,
              "#d8576b"
             ],
             [
              0.6666666666666666,
              "#ed7953"
             ],
             [
              0.7777777777777778,
              "#fb9f3a"
             ],
             [
              0.8888888888888888,
              "#fdca26"
             ],
             [
              1,
              "#f0f921"
             ]
            ],
            "type": "histogram2d"
           }
          ],
          "histogram2dcontour": [
           {
            "colorbar": {
             "outlinewidth": 0,
             "ticks": ""
            },
            "colorscale": [
             [
              0,
              "#0d0887"
             ],
             [
              0.1111111111111111,
              "#46039f"
             ],
             [
              0.2222222222222222,
              "#7201a8"
             ],
             [
              0.3333333333333333,
              "#9c179e"
             ],
             [
              0.4444444444444444,
              "#bd3786"
             ],
             [
              0.5555555555555556,
              "#d8576b"
             ],
             [
              0.6666666666666666,
              "#ed7953"
             ],
             [
              0.7777777777777778,
              "#fb9f3a"
             ],
             [
              0.8888888888888888,
              "#fdca26"
             ],
             [
              1,
              "#f0f921"
             ]
            ],
            "type": "histogram2dcontour"
           }
          ],
          "mesh3d": [
           {
            "colorbar": {
             "outlinewidth": 0,
             "ticks": ""
            },
            "type": "mesh3d"
           }
          ],
          "parcoords": [
           {
            "line": {
             "colorbar": {
              "outlinewidth": 0,
              "ticks": ""
             }
            },
            "type": "parcoords"
           }
          ],
          "pie": [
           {
            "automargin": true,
            "type": "pie"
           }
          ],
          "scatter": [
           {
            "marker": {
             "colorbar": {
              "outlinewidth": 0,
              "ticks": ""
             }
            },
            "type": "scatter"
           }
          ],
          "scatter3d": [
           {
            "line": {
             "colorbar": {
              "outlinewidth": 0,
              "ticks": ""
             }
            },
            "marker": {
             "colorbar": {
              "outlinewidth": 0,
              "ticks": ""
             }
            },
            "type": "scatter3d"
           }
          ],
          "scattercarpet": [
           {
            "marker": {
             "colorbar": {
              "outlinewidth": 0,
              "ticks": ""
             }
            },
            "type": "scattercarpet"
           }
          ],
          "scattergeo": [
           {
            "marker": {
             "colorbar": {
              "outlinewidth": 0,
              "ticks": ""
             }
            },
            "type": "scattergeo"
           }
          ],
          "scattergl": [
           {
            "marker": {
             "colorbar": {
              "outlinewidth": 0,
              "ticks": ""
             }
            },
            "type": "scattergl"
           }
          ],
          "scattermapbox": [
           {
            "marker": {
             "colorbar": {
              "outlinewidth": 0,
              "ticks": ""
             }
            },
            "type": "scattermapbox"
           }
          ],
          "scatterpolar": [
           {
            "marker": {
             "colorbar": {
              "outlinewidth": 0,
              "ticks": ""
             }
            },
            "type": "scatterpolar"
           }
          ],
          "scatterpolargl": [
           {
            "marker": {
             "colorbar": {
              "outlinewidth": 0,
              "ticks": ""
             }
            },
            "type": "scatterpolargl"
           }
          ],
          "scatterternary": [
           {
            "marker": {
             "colorbar": {
              "outlinewidth": 0,
              "ticks": ""
             }
            },
            "type": "scatterternary"
           }
          ],
          "surface": [
           {
            "colorbar": {
             "outlinewidth": 0,
             "ticks": ""
            },
            "colorscale": [
             [
              0,
              "#0d0887"
             ],
             [
              0.1111111111111111,
              "#46039f"
             ],
             [
              0.2222222222222222,
              "#7201a8"
             ],
             [
              0.3333333333333333,
              "#9c179e"
             ],
             [
              0.4444444444444444,
              "#bd3786"
             ],
             [
              0.5555555555555556,
              "#d8576b"
             ],
             [
              0.6666666666666666,
              "#ed7953"
             ],
             [
              0.7777777777777778,
              "#fb9f3a"
             ],
             [
              0.8888888888888888,
              "#fdca26"
             ],
             [
              1,
              "#f0f921"
             ]
            ],
            "type": "surface"
           }
          ],
          "table": [
           {
            "cells": {
             "fill": {
              "color": "#EBF0F8"
             },
             "line": {
              "color": "white"
             }
            },
            "header": {
             "fill": {
              "color": "#C8D4E3"
             },
             "line": {
              "color": "white"
             }
            },
            "type": "table"
           }
          ]
         },
         "layout": {
          "annotationdefaults": {
           "arrowcolor": "#2a3f5f",
           "arrowhead": 0,
           "arrowwidth": 1
          },
          "autotypenumbers": "strict",
          "coloraxis": {
           "colorbar": {
            "outlinewidth": 0,
            "ticks": ""
           }
          },
          "colorscale": {
           "diverging": [
            [
             0,
             "#8e0152"
            ],
            [
             0.1,
             "#c51b7d"
            ],
            [
             0.2,
             "#de77ae"
            ],
            [
             0.3,
             "#f1b6da"
            ],
            [
             0.4,
             "#fde0ef"
            ],
            [
             0.5,
             "#f7f7f7"
            ],
            [
             0.6,
             "#e6f5d0"
            ],
            [
             0.7,
             "#b8e186"
            ],
            [
             0.8,
             "#7fbc41"
            ],
            [
             0.9,
             "#4d9221"
            ],
            [
             1,
             "#276419"
            ]
           ],
           "sequential": [
            [
             0,
             "#0d0887"
            ],
            [
             0.1111111111111111,
             "#46039f"
            ],
            [
             0.2222222222222222,
             "#7201a8"
            ],
            [
             0.3333333333333333,
             "#9c179e"
            ],
            [
             0.4444444444444444,
             "#bd3786"
            ],
            [
             0.5555555555555556,
             "#d8576b"
            ],
            [
             0.6666666666666666,
             "#ed7953"
            ],
            [
             0.7777777777777778,
             "#fb9f3a"
            ],
            [
             0.8888888888888888,
             "#fdca26"
            ],
            [
             1,
             "#f0f921"
            ]
           ],
           "sequentialminus": [
            [
             0,
             "#0d0887"
            ],
            [
             0.1111111111111111,
             "#46039f"
            ],
            [
             0.2222222222222222,
             "#7201a8"
            ],
            [
             0.3333333333333333,
             "#9c179e"
            ],
            [
             0.4444444444444444,
             "#bd3786"
            ],
            [
             0.5555555555555556,
             "#d8576b"
            ],
            [
             0.6666666666666666,
             "#ed7953"
            ],
            [
             0.7777777777777778,
             "#fb9f3a"
            ],
            [
             0.8888888888888888,
             "#fdca26"
            ],
            [
             1,
             "#f0f921"
            ]
           ]
          },
          "colorway": [
           "#636efa",
           "#EF553B",
           "#00cc96",
           "#ab63fa",
           "#FFA15A",
           "#19d3f3",
           "#FF6692",
           "#B6E880",
           "#FF97FF",
           "#FECB52"
          ],
          "font": {
           "color": "#2a3f5f"
          },
          "geo": {
           "bgcolor": "white",
           "lakecolor": "white",
           "landcolor": "#E5ECF6",
           "showlakes": true,
           "showland": true,
           "subunitcolor": "white"
          },
          "hoverlabel": {
           "align": "left"
          },
          "hovermode": "closest",
          "mapbox": {
           "style": "light"
          },
          "paper_bgcolor": "white",
          "plot_bgcolor": "#E5ECF6",
          "polar": {
           "angularaxis": {
            "gridcolor": "white",
            "linecolor": "white",
            "ticks": ""
           },
           "bgcolor": "#E5ECF6",
           "radialaxis": {
            "gridcolor": "white",
            "linecolor": "white",
            "ticks": ""
           }
          },
          "scene": {
           "xaxis": {
            "backgroundcolor": "#E5ECF6",
            "gridcolor": "white",
            "gridwidth": 2,
            "linecolor": "white",
            "showbackground": true,
            "ticks": "",
            "zerolinecolor": "white"
           },
           "yaxis": {
            "backgroundcolor": "#E5ECF6",
            "gridcolor": "white",
            "gridwidth": 2,
            "linecolor": "white",
            "showbackground": true,
            "ticks": "",
            "zerolinecolor": "white"
           },
           "zaxis": {
            "backgroundcolor": "#E5ECF6",
            "gridcolor": "white",
            "gridwidth": 2,
            "linecolor": "white",
            "showbackground": true,
            "ticks": "",
            "zerolinecolor": "white"
           }
          },
          "shapedefaults": {
           "line": {
            "color": "#2a3f5f"
           }
          },
          "ternary": {
           "aaxis": {
            "gridcolor": "white",
            "linecolor": "white",
            "ticks": ""
           },
           "baxis": {
            "gridcolor": "white",
            "linecolor": "white",
            "ticks": ""
           },
           "bgcolor": "#E5ECF6",
           "caxis": {
            "gridcolor": "white",
            "linecolor": "white",
            "ticks": ""
           }
          },
          "title": {
           "x": 0.05
          },
          "xaxis": {
           "automargin": true,
           "gridcolor": "white",
           "linecolor": "white",
           "ticks": "",
           "title": {
            "standoff": 15
           },
           "zerolinecolor": "white",
           "zerolinewidth": 2
          },
          "yaxis": {
           "automargin": true,
           "gridcolor": "white",
           "linecolor": "white",
           "ticks": "",
           "title": {
            "standoff": 15
           },
           "zerolinecolor": "white",
           "zerolinewidth": 2
          }
         }
        }
       }
      },
      "text/html": [
       "<div>                            <div id=\"e65f1f82-fa29-4446-9fc0-94eed90bfed9\" class=\"plotly-graph-div\" style=\"height:525px; width:100%;\"></div>            <script type=\"text/javascript\">                require([\"plotly\"], function(Plotly) {                    window.PLOTLYENV=window.PLOTLYENV || {};                                    if (document.getElementById(\"e65f1f82-fa29-4446-9fc0-94eed90bfed9\")) {                    Plotly.newPlot(                        \"e65f1f82-fa29-4446-9fc0-94eed90bfed9\",                        [{\"colorscale\":[[0.0,\"#636efa\"],[1.0,\"#636efa\"]],\"geo\":\"geo\",\"hovertemplate\":\"locations=%{location}<extra></extra>\",\"locationmode\":\"country names\",\"locations\":[\"United States\",\"India\",\"United Kingdom\",\"Japan\",\"South Korea\",\"Canada\",\"Spain\",\"France\",\"Mexico\",\"Egypt\",\"Turkey\",\"Nigeria\",\"Australia\",\"Taiwan\",\"Indonesia\",\"Brazil\",\"Philippines\",\"United Kingdom, United States\",\"United States, Canada\",\"Germany\",\"China\",\"Thailand\",\"Argentina\",\"Hong Kong\",\"United States, United Kingdom\",\"Italy\",\"Canada, United States\",\"Colombia\",\"South Africa\",\"France, Belgium\",\"Poland\",\"Singapore\",\"Malaysia\",\"Netherlands\",\"Pakistan\",\"United States, Germany\",\"United States, Japan\",\"United States, France\",\"Hong Kong, China\",\"Lebanon\",\"Russia\",\"Chile\",\"United Arab Emirates\",\"China, Hong Kong\",\"United States, Mexico\",\"Denmark\",\"Australia, United States\",\"Mexico, United States\",\"Sweden\",\"Germany, United States\",\"Israel\",\"New Zealand\",\"Japan, United States\",\"United States, Australia\",\"Norway\",\"France, United States\",\"India, United States\",\"Ireland\",\"United States, India\",\"Belgium\",\"Argentina, Spain\",\"United Kingdom, Canada, United States\",\"United States, China\",\"Saudi Arabia\",\"Vietnam\",\"United States, France, Japan\",\"United Kingdom, France\",\"Romania\",\"Kuwait\",\"South Korea, United States\",\"United States, Czech Republic\",\"Italy, France\",\"United States, New Zealand\",\"Spain, France\",\"Austria\",\"United States, Italy\",\"India, France\",\"Israel, United States\",\"Iceland\",\"South Africa, United States\",\"United Kingdom, France, United States\",\"United States, Russia\",\"Italy, United States\",\"United Kingdom, United States, Spain, Germany, Greece, Canada\",\"United States, United Kingdom, France\",\"Peru\",\"United States, Spain\",\"Poland, United States\",\"United States, Bulgaria\",\"Canada, United States, United Kingdom\",\"Hungary\",\"Mexico, Spain\",\"Hong Kong, United States\",\"United States, United Kingdom, Australia\",\"United Kingdom, Canada\",\"United Kingdom, Germany\",\"Spain, Germany\",\"United States, Sweden\",\"Sweden, United States\",\"United Kingdom, Japan, United States\",\"United States, Chile\",\"Denmark, United States\",\"France, Egypt\",\"China, United Kingdom\",\"Uruguay\",\"United States, South Africa\",\"United States, Hong Kong\",\"United Kingdom, Ireland\",\"Ghana\",\"Kenya\",\"Spain, Argentina\",\"Belgium, France\",\"United States, Colombia\",\"United Kingdom, United States, Australia\",\"Bangladesh\",\"France, Canada\",\"China, Canada, United States\",\"Bulgaria, United States\",\"United States, United Arab Emirates\",\"United States, Ireland\",\"United States, Germany, Canada\",\"Ireland, United Kingdom, United States\",\"New Zealand, United States\",\"United States, Greece\",\"United States, Nigeria\",\"Singapore, United States\",\"Canada, United Kingdom, United States\",\"Ukraine\",\"Argentina, Chile\",\"Turkey, United States\",\"United States, South Korea\",\"Netherlands, Belgium\",\"United States, Thailand\",\"Portugal, Spain\",\"Brazil, France\",\"Canada, United States, France\",\"United Kingdom, Belgium\",\"France, Japan, United States\",\"Belgium, Netherlands\",\"Czech Republic, United States\",\"United States, Argentina\",\"Australia, United Arab Emirates\",\"Canada, United Kingdom\",\"Switzerland\",\"China, United States\",\"Australia, Canada\",\"United States, Japan, Canada\",\"Serbia, United States\",\"Canada, India\",\"United States, United Kingdom, Germany\",\"Canada, Australia\",\"Lebanon, Canada, France\",\"Pakistan, United States\",\"Thailand, United States\",\"Ireland, United Kingdom\",\"Spain, United Kingdom\",\"Spain, Italy\",\"United Kingdom, Italy\",\"France, United Kingdom, United States\",\"Indonesia, Singapore\",\"India, Soviet Union\",\"Hong Kong, China, United States\",\"Jordan\",\"United States, China, Hong Kong\",\"United Kingdom, India\",\"Egypt, France\",\"India, United Kingdom\",\"Germany, United Kingdom\",\"United Kingdom, Germany, United States\",\"Germany, Czech Republic\",\"China, Taiwan\",\"United Arab Emirates, United States\",\"United Kingdom, Nigeria\",\"Colombia, Mexico, United States\",\"United States, South Korea, China\",\"Canada, South Africa\",\"Australia, United Kingdom\",\"Spain, Mexico\",\"Norway, Iceland, United States\",\"United Kingdom,\",\"United Kingdom, United States, France\",\"United Kingdom, France, Germany, United States\",\"India, Germany\",\"United Kingdom, India, United States\",\"United States, United Kingdom, Canada\",\"Pakistan, Norway, United States\",\"France, Germany, Switzerland\",\"United States, United Kingdom, Denmark, Sweden\",\"United States, Canada, Belgium, United Kingdom\",\"Germany, United States, Hong Kong, Singapore\",\"Germany, Australia\",\"Spain, France, Italy\",\"Germany, France, Luxembourg, United Kingdom, United States\",\"Venezuela\",\"Taiwan, Hong Kong, United States, China\",\"Germany, Belgium\",\"Canada, Spain, France\",\"United States, Indonesia\",\"Czech Republic, France\",\"United Kingdom, Canada, Italy\",\"United States, France, Mexico\",\"France, China, Japan, United States\",\"United Kingdom, Czech Republic, Germany, United States\",\"United States, Nicaragua\",\"United States, Italy, United Kingdom, Liechtenstein\",\"Denmark, France, Belgium, Italy, Netherlands, United States, United Kingdom\",\"United States, Australia, Mexico\",\"Canada, France, Italy, Morocco, United States\",\"Italy, Canada, France\",\"United Kingdom, Denmark, Canada, Croatia\",\"South Africa, United States, New Zealand, Canada\",\"Italy, Germany\",\"Finland, Sweden, Norway, Latvia, Germany\",\"Turkey, France, Germany, Poland\",\"United States, Brazil\",\"United States, France, United Kingdom, Japan\",\"Brazil, France, Germany\",\"Spain, Cuba\",\"United Kingdom, South Africa\",\"Denmark, Zimbabwe\",\"United Kingdom, Israel, Russia\",\"United Arab Emirates, United States, United Kingdom\",\"Greece, United States\",\"United Kingdom, Poland, United States\",\"Singapore, France\",\"United States, Canada, France\",\"Argentina, Uruguay, Spain, France\",\"United States, Hungary\",\"United Kingdom, Italy, Israel, Peru, United States\",\"France, Germany\",\"France, Qatar\",\"United Kingdom, Germany, Canada\",\"Ireland, South Africa\",\"United States, Colombia, Mexico\",\"Chile, United States, France\",\"Belgium, France, Netherlands\",\"United Kingdom, Ukraine, United States\",\"Germany, Australia, France, China\",\"United States, Denmark\",\"Norway, United States\",\"United States, Bermuda, Ecuador\",\"United States, Hungary, Ireland, Canada\",\"Canada, Japan, Netherlands\",\"United Kingdom, France, United States, Belgium\",\"United States, France, United Kingdom\",\"France, Canada, China, Cambodia\",\"France, United Kingdom, India\",\"Netherlands, United States\",\"Spain, Switzerland\",\"United States, Australia, China\",\"South Africa, United States, Germany\",\"Spain, Italy, Argentina\",\"Chile, Spain, Argentina, Germany\",\"Chile, France\",\"West Germany\",\"Austria, Czech Republic\",\"Lebanon, Qatar\",\"United Kingdom, France, Belgium, United States\",\"United Kingdom, Jordan, Qatar, Iran\",\"France, South Korea, Japan\",\"Israel, Germany, France\",\"United Kingdom, Egypt, United States\",\"Spain, Mexico, France\",\"United States, India, Bangladesh\",\"France, United States, Mexico\",\"Australia, Armenia, Japan, Jordan, Mexico, Mongolia, New Zealand, Philippines, South Africa, Sweden, United States, Uruguay\",\"India, Iran\",\"Norway, Germany\",\"France, Belgium, Spain\",\"Denmark, Sweden, Israel, United States\",\"United States, Iceland\",\"United Kingdom, Russia\",\"United States, Israel, Italy, South Africa\",\"Netherlands, Denmark, France, Germany\",\"South Korea, Japan\",\"United Kingdom, Pakistan\",\"France, New Zealand\",\"United Kingdom, Czech Republic, United States, Germany, Bahamas\",\"China, Germany, India, United States\",\"Germany, Sri Lanka\",\"Australia, United Kingdom, United Arab Emirates, Canada\",\"Sweden, Netherlands\",\"Hong Kong, China, Singapore\",\"France, Morocco\",\"United States, United Kingdom, Italy\",\"Denmark, France, Poland\",\"New Zealand, United Kingdom\",\"Netherlands, Denmark, South Africa\",\"Iran, France\",\"United Kingdom, United States, France, Germany\",\"Australia, France\",\"United Kingdom, France, Germany\",\"Canada, Luxembourg\",\"Brazil, Netherlands, United States, Colombia, Austria, Germany\",\"France, Canada, Belgium\",\"Cambodia, United States\",\"Canada, France\",\"Bulgaria, United States, Spain, Canada\",\"Czech Republic, Slovakia\",\"South Africa, China, United States\",\"Brazil, India, China, United States\",\"United States, France, Canada, Spain\",\"Israel, Germany, Poland, Luxembourg, Belgium, France, United States\",\"Spain, France, Uruguay\",\"France, Canada, United States\",\"United States, Canada, China\",\"Ireland, Canada, Luxembourg, United States, United Kingdom, Philippines, India\",\"United States, Czech Republic, United Kingdom\",\"Israel, Germany\",\"Mexico, France\",\"Austria, United States\",\"United States, New Zealand, United Kingdom\",\"United Kingdom, Lithuania\",\"United States, Greece, United Kingdom\",\"United Kingdom, China, United States, India\",\"United States, Sweden, Norway\",\"United Kingdom, United States, Morocco\",\"United States, United Kingdom, Morocco\",\"Spain, Canada, United States\",\"Finland, United States\",\"United States, Germany, United Kingdom, Italy\",\"Guatemala\",\"Czech Republic, United Kingdom, France\",\"United States, Germany, United Kingdom, Australia\",\"Italy, France, Switzerland\",\"Canada, France, United States\",\"Switzerland, United States\",\"Thailand, Canada, United States\",\"China, Hong Kong, United States\",\"United Kingdom, New Zealand\",\"Australia, United Kingdom, Canada\",\"United States, Germany, United Kingdom\",\"Jamaica, United States\",\"Australia, United Kingdom, United States, New Zealand, Italy, France\",\"France, United States, Canada\",\"United Kingdom, France, Canada, Belgium, United States\",\"Denmark, United Kingdom, Sweden\",\"United States, Kazakhstan\",\"Argentina, France, United States, Germany, Qatar\",\"United States, India, United Arab Emirates\",\"United Kingdom, Canada, France, United States\",\"India, Germany, France\",\"Germany, United States, United Kingdom, Canada\",\"United Kingdom, Brazil, Germany\",\"United Kingdom, Namibia, South Africa, Zimbabwe, United States\",\"Canada, United States, India, United Kingdom\",\"Switzerland, United Kingdom, United States\",\"United Kingdom, India, Sweden\",\"United States, Brazil, India, Uganda, China\",\"Peru, United States, United Kingdom\",\"Canada, India, Thailand, United States, United Arab Emirates\",\"Belgium, Ireland, Netherlands, Germany, Afghanistan\",\"United States, East Germany, West Germany\",\"France, Netherlands, South Africa, Finland\",\"Egypt, Austria, United States\",\"Russia, Spain\",\"Croatia, Slovenia, Serbia, Montenegro\",\"Japan, Canada\",\"United States, France, South Korea, Indonesia\",\"United Kingdom, China, United States\",\"United Kingdom, United States, Czech Republic\",\"United Kingdom, Canada, Japan\",\"United States, Venezuela\",\"France, Canada, Italy, United States, China\",\"Ireland, United Kingdom, Greece, France, Netherlands\",\"Denmark, Indonesia, Finland, Norway, United Kingdom, Israel, France, United States, Germany, Netherlands\",\"United States, Australia, South Africa, United Kingdom\",\"United States, Germany, Mexico\",\"Somalia, Kenya, Sudan, South Africa, United States\",\"United States, Canada, Japan, Panama\",\"United Kingdom, Spain, Belgium\",\"Serbia, South Korea, Slovenia\",\"Denmark, United Kingdom, South Africa, Sweden, Belgium\",\"Germany, Canada, United States\",\"Ireland, Canada, United States, United Kingdom\",\"New Zealand, United Kingdom, Australia\",\"United Kingdom, Australia, Canada, United States\",\"Germany, United States, Italy\",\"Italy, South Africa, West Germany, Australia, United States\",\"United States, United Kingdom, Spain, South Korea\",\"Russia, United States, China\",\"Denmark, China\",\"Netherlands, Belgium, United Kingdom, United States\",\"France, Belgium, China, United States\",\"United States, Chile, Israel\",\"United Kingdom, Norway, Denmark, Germany, Sweden\",\"Norway, Denmark, Sweden\",\"China, India, Nepal\",\"United Kingdom, South Korea\",\"United States, Greece, Brazil\",\"United Kingdom, Germany, Canada, United States\",\"South Korea, France\",\"United States, Australia, Samoa, United Kingdom\",\"Argentina, Chile, Peru\",\"Turkey, Azerbaijan\",\"Poland, West Germany\",\"Germany, United States, Sweden\",\"Canada, Spain\",\"United States, France, Canada, Lebanon, Qatar\",\"Germany, United States, Canada\",\"Hong Kong, Taiwan\",\"India, Japan\",\"United States, Canada, Germany\",\"Ireland, United States\",\"Ireland, United Kingdom, Italy, United States\",\"Poland,\",\"Slovenia, Croatia, Germany, Czech Republic, Qatar\",\"Canada, United Kingdom, Netherlands\",\"United States, Spain, Germany\",\"China, South Korea, United States\",\"Ireland, United States, France\",\"United Kingdom, France, Belgium\",\"Canada, Ireland, United States\",\"United Kingdom, United States, Dominican Republic\",\"United States, Senegal\",\"Germany, United Kingdom, United States\",\"South Africa, Germany, Netherlands, France\",\"Canada, United States, United Kingdom, France, Luxembourg\",\"United States, Cambodia\",\"Norway, United Kingdom, France, Ireland\",\"United Kingdom, Poland\",\"Germany, France, United States, Canada, United Kingdom\",\"United States, New Zealand, Japan\",\"United States, Netherlands, Japan, France\",\"India, Switzerland\",\"United States, Morocco\",\"Singapore, Japan, France\",\"Canada, Mexico, Germany, South Africa\",\"United Kingdom, United States, Canada\",\"United States, Uruguay\",\"Israel, Sweden, Germany, Netherlands\",\"India, Canada\",\"Ireland, Canada, United Kingdom, United States\",\"United States, Germany, Australia\",\"Australia, France, Ireland\",\"Australia, India\",\"United States, United Kingdom, Canada, Japan\",\"Sweden, United Kingdom, Finland\",\"Portugal, France, Poland, United States\",\"Switzerland, Vatican City, Italy, Germany, France\",\"France, Germany, Czech Republic, Belgium\",\"Colombia, United States\",\"Switzerland, France\",\"Italy, India\",\"United States, Botswana\",\"Chile, Argentina, France, Spain, United States\",\"United States, India, South Korea, China\",\"Denmark, Germany, Belgium, United Kingdom, France\",\"Denmark, Germany, Belgium, United Kingdom, France, Sweden\",\"France, Switzerland, Spain, United States, United Arab Emirates\",\"India, Malaysia\",\"Denmark, France, United States, Sweden\",\"Australia, Iraq\",\"China, Morocco, Hong Kong\",\"Canada, United States, Germany\",\"United Kingdom, Thailand\",\"Venezuela, Colombia\",\"Germany, Jordan, Netherlands\",\"United Kingdom, Belgium, Sweden\",\"United Arab Emirates, Romania\",\"Saudi Arabia, United Arab Emirates\",\"Canada, United States, Ireland\",\"Japan, Canada, United States\",\"Spain, France, Canada\",\"Denmark, Singapore, Canada, United States\",\"United States, France, Denmark\",\"United States, China, Colombia\",\"Spain, Thailand, United States\",\"Ireland, Luxembourg, Belgium\",\"Canada, Belgium\",\"Lebanon, United Arab Emirates, France, Switzerland, Germany\",\"France, Belgium, Italy\",\"Lebanon, United States, United Arab Emirates\",\"Lebanon, France\",\"France, Lebanon\",\"France, Lebanon, United Kingdom\",\"United States, China, Canada\",\"United States, Malta, France, United Kingdom\",\"United Kingdom, Singapore\",\"Canada, Hungary, United States\",\"United States, Cambodia, Romania\",\"Spain, Belgium, United States\",\"Portugal, United States\",\"United Kingdom, Spain, United States\",\"Hungary, United States\",\"Canada, United States, Cayman Islands\",\"United Kingdom, Germany, France, United States\",\"United States, Ireland, United Kingdom, India\",\"Senegal\",\"France, Algeria\",\"United Kingdom, Finland, Germany, United States, Australia, Japan, France, Ireland\",\"Philippines, Canada, United Kingdom, United States\",\"Ireland, France, Iceland, United States, Mexico, Belgium, United Kingdom, Hong Kong\",\"United States, France, Serbia\",\"France, Norway, Lebanon, Belgium\",\"Sweden, Czech Republic, United Kingdom, Denmark, Netherlands\",\"United States, United Kingdom, India\",\"Spain, France, Canada, United States\",\"China, Spain, South Korea, United States\",\"France, Belgium, Luxembourg, Cambodia,\",\"United Kingdom, Australia\",\"Belarus\",\"Indonesia, United Kingdom\",\"Switzerland, France, Belgium, United States\",\"Chile, Italy\",\"Peru, Germany, Norway\",\"France, Brazil, Spain, Belgium\",\"Egypt, Algeria\",\"Canada, South Korea, United States\",\"Nigeria, United Kingdom\",\"United States, France, Canada\",\"United Arab Emirates, Jordan, Lebanon, Saudi Arabia\",\"Mozambique\",\"United States, Canada, United Kingdom\",\"Indonesia, Netherlands\",\"United Kingdom, China\",\"Turkey, South Korea\",\"Namibia\",\"United Kingdom, Kenya\",\"United Kingdom, France, Germany, Spain\",\"United Kingdom, France, United States, Belgium, Luxembourg, China, Germany\",\"United States, France, Canada, Belgium\",\"Germany, China, United Kingdom\",\"United States, United Kingdom, Canada, China\",\"Australia, New Zealand, United States\",\"Hong Kong, Iceland, United States\",\"France, Australia, Germany\",\"United States, Belgium, Canada, France\",\"South Africa, Angola\",\"United States, Philippines\",\"Luxembourg\",\"Chile, Brazil\",\"India, United Kingdom, France, Qatar\",\"Kuwait, United States\",\"Spain, France, United Kingdom, United States\",\", France, Algeria\",\"France, Israel, Germany, United States, United Kingdom\",\"Egypt, Denmark, Germany\",\"United States, Switzerland\",\"Hong Kong, Canada, United States\",\"France, Canada, United States, Spain\",\"Switzerland, United Kingdom, Australia\",\"France, Netherlands, Singapore\",\"Ireland, United States, United Kingdom\",\"Australia, New Zealand\",\"South Korea, Czech Republic\",\"Australia, Germany\",\"United Kingdom, Australia, United States\",\"Spain, United Kingdom, United States\",\"Belgium, United Kingdom\",\"United Kingdom, United States, France, Italy\",\"United Kingdom, Australia, France\",\"United States, Ghana, Burkina Faso, United Kingdom, Germany, Ethiopia\",\"United States, India, France\",\"Finland\",\"South Africa, United States, Japan\",\"Spain, United States\",\"United States, Singapore\",\"United Kingdom, Australia, France, United States\",\"Italy, Brazil, Greece\",\"United States, Italy, France, Japan\",\"United States, Italy, Romania, United Kingdom\",\"Argentina, Venezuela\",\", South Korea\",\"India, Nepal\",\"New Zealand, Australia, France, United States\",\"United Kingdom, Germany, Spain, United States\",\"United States, France, Italy, United Kingdom\",\"United States, India, United Kingdom\",\"Lebanon, Palestine, Denmark, Qatar\",\"Canada, United States, Mexico\",\"Czech Republic, United Kingdom, United States\",\"Italy, United Kingdom\",\"United States, Brazil, Japan, Spain, India\",\"United States, China, United Kingdom\",\"Cameroon\",\"Uruguay, Germany\",\"France, United States, United Kingdom, Canada\",\"Egypt, Saudi Arabia\",\"United Kingdom, France, Poland, Germany, United States\",\"Ireland, Switzerland, United Kingdom, France, United States\",\"United Kingdom, South Africa, France\",\"Ireland, United Kingdom, France, Germany\",\"Russia, United States\",\"France, United Kingdom\",\"Canada, Nigeria, United States\",\"United States, United Kingdom, Germany, Hungary\",\"Mexico, France, Colombia\",\"Finland, Germany\",\"Lebanon, Syria\",\"Philippines, Singapore, Indonesia\",\"China, United States, Canada\",\"Lebanon, United Arab Emirates\",\"Canada, United States, Denmark\",\"Germany, United States, France\",\"United States, United Kingdom, New Zealand\",\"Norway, Denmark\",\"Syria, France, Lebanon, Qatar\",\"Mauritius\",\"Mexico, Brazil\",\"Germany, France\",\"United Kingdom, France, Spain, United States\",\"United States, Mexico, Spain, Malta\",\"Zimbabwe\",\"Georgia, Germany, France\",\"United Kingdom, Germany, United Arab Emirates, New Zealand\",\"United Kingdom, Ireland, United States\",\"Canada, Germany, France, United States\",\"United Kingdom, Japan\",\"Norway, Denmark, Netherlands, Sweden\",\"Ireland, Canada\",\"Italy, Switzerland, France, Germany\",\"Mexico, Netherlands\",\"Germany, France, Russia\",\"France, Iran, United States\",\"Russia, Poland, Serbia\",\"Spain, Portugal\",\"Mexico, Argentina\",\"United Kingdom, Canada, United States, Cayman Islands\",\"Indonesia, United States\",\"United States, Israel, United Kingdom, Canada\",\"Uruguay, Argentina, Spain\",\"Croatia\",\"Iceland, Sweden, Belgium\",\"Mexico, Finland\",\"Denmark, Spain\",\"Chile, Argentina\",\"Canada, Brazil\",\"Canada, Germany\",\"Pakistan, United Arab Emirates\",\"Ghana, United States\",\"United Arab Emirates, United Kingdom, India\",\"Spain, Belgium\",\"United States, Taiwan\",\"Austria, Iraq, United States\",\"United Kingdom, Malawi\",\"Paraguay, Argentina\",\"United Kingdom, Russia, United States\",\"India, Pakistan\",\"United Kingdom, West Germany\",\"India, Australia\",\"United States,\",\"Netherlands, Belgium, Germany, Jordan\",\"Spain, Colombia\",\"United Kingdom, South Africa, Australia, United States\",\"Bulgaria\",\"Argentina, Brazil, France, Poland, Germany, Denmark\",\"United Kingdom, Spain, United States, Germany\",\"Philippines, Qatar\",\"Norway, Germany, Sweden\",\"Saudi Arabia, Syria, Egypt, Lebanon, Kuwait\",\"South Korea, China\",\"Georgia\",\"Soviet Union, India\",\"Canada, Germany, South Africa\",\"South Korea, China, United States\",\"India, Mexico\",\"United States, Canada, Indonesia, United Kingdom, China, Singapore\",\"Italy, United States, Argentina\",\"Belgium, United Kingdom, United States\",\"China, United States, Australia\",\"India, Germany, Austria\",\"United States, Brazil, South Korea, Mexico, Japan, Germany\",\"China, Japan\",\"Argentina, France\",\"China, United States, United Kingdom\",\"France, Luxembourg, United States\",\"Colombia, Mexico\",\"Cambodia\",\"United States, Canada, Ireland\",\"Chile, Peru\",\"Argentina, Italy\",\"Canada, Japan, United States\",\"United Kingdom, Canada, United States, Germany\",\"Italy, Switzerland, Albania, Poland\",\"France, Luxembourg, Canada\",\"Uruguay, Spain, Mexico\",\"Argentina, United States\",\"France, Malta, United States\",\"Austria, Germany\",\"Taiwan, China\",\"United Kingdom, United States, Ireland\",\"Brazil, United Kingdom\",\"Romania, France, Switzerland, Germany\",\"Romania, United Kingdom\",\"Cyprus\",\"United Kingdom, France, Belgium, Canada, United States\",\"United Kingdom, France, Belgium, Ireland, United States\",\"United States, Norway, Canada\",\"Kenya, United States\",\"France, South Korea, Japan, United States\",\"Taiwan, Malaysia\",\"Uruguay, Argentina, Germany, Spain\",\"Netherlands, Germany, Denmark, United Kingdom\",\"United States, United Kingdom, Japan\",\"Spain, France, United States\",\"India, United Kingdom, China, Canada, Japan, South Korea, United States\",\"Romania, United States\",\"Canada, Nigeria\",\"Saudi Arabia, Netherlands, Germany, Jordan, United Arab Emirates, United States\",\"United Kingdom, Spain\",\"Finland, France\",\"United Kingdom, Germany, United States, France\",\"Italy, United Kingdom, France\",\"Uruguay, Argentina\",\"United States, Mexico, Colombia\",\"Turkey, India\",\"Italy, Turkey\",\"United Kingdom, United States, Japan\",\"France, Belgium, United States\",\"Puerto Rico, United States, Colombia\",\"United States, United Kingdom, France, Germany, Japan\",\"Indonesia, South Korea, Singapore\",\"Thailand, China, United States\",\"Brazil, United States\",\"United Kingdom, Hungary, Australia\",\"Italy, Belgium\",\"Singapore, Malaysia\",\"France, Belgium, Luxembourg, Romania, Canada, United States\",\"South Africa, Nigeria\",\"United Kingdom, Hong Kong\",\"Denmark, Brazil, France, Portugal, Sweden\",\"Argentina, United States, Mexico\",\"India, Turkey\",\"Malaysia, Singapore, Hong Kong\",\"Philippines, Singapore\",\"Taiwan, China, France, United States\",\"Germany, Italy\",\"Colombia, Peru, United Kingdom\",\"United States, South Korea, Japan\",\"Finland, Germany, Belgium\",\"Netherlands, Germany, Italy, Canada\",\"United States, Poland\",\"Spain, Germany, Denmark, United States\",\"Norway, Sweden\",\"South Korea, Canada, United States, China\",\"Argentina, Uruguay, Serbia\",\"France, Japan\",\"Mauritius, South Africa\",\"United Kingdom, United States, Germany, Denmark, Belgium, Japan\",\"Canada, Norway\",\"India, United Kingdom, Canada, United States\",\"Philippines, United States\",\"Romania, Bulgaria, Hungary\",\"Uruguay, Guatemala\",\"France, Senegal, Belgium\",\"Mexico, United States, Spain, Colombia\",\"United Arab Emirates, Jordan\"],\"name\":\"\",\"showlegend\":true,\"showscale\":false,\"z\":[1,1,1,1,1,1,1,1,1,1,1,1,1,1,1,1,1,1,1,1,1,1,1,1,1,1,1,1,1,1,1,1,1,1,1,1,1,1,1,1,1,1,1,1,1,1,1,1,1,1,1,1,1,1,1,1,1,1,1,1,1,1,1,1,1,1,1,1,1,1,1,1,1,1,1,1,1,1,1,1,1,1,1,1,1,1,1,1,1,1,1,1,1,1,1,1,1,1,1,1,1,1,1,1,1,1,1,1,1,1,1,1,1,1,1,1,1,1,1,1,1,1,1,1,1,1,1,1,1,1,1,1,1,1,1,1,1,1,1,1,1,1,1,1,1,1,1,1,1,1,1,1,1,1,1,1,1,1,1,1,1,1,1,1,1,1,1,1,1,1,1,1,1,1,1,1,1,1,1,1,1,1,1,1,1,1,1,1,1,1,1,1,1,1,1,1,1,1,1,1,1,1,1,1,1,1,1,1,1,1,1,1,1,1,1,1,1,1,1,1,1,1,1,1,1,1,1,1,1,1,1,1,1,1,1,1,1,1,1,1,1,1,1,1,1,1,1,1,1,1,1,1,1,1,1,1,1,1,1,1,1,1,1,1,1,1,1,1,1,1,1,1,1,1,1,1,1,1,1,1,1,1,1,1,1,1,1,1,1,1,1,1,1,1,1,1,1,1,1,1,1,1,1,1,1,1,1,1,1,1,1,1,1,1,1,1,1,1,1,1,1,1,1,1,1,1,1,1,1,1,1,1,1,1,1,1,1,1,1,1,1,1,1,1,1,1,1,1,1,1,1,1,1,1,1,1,1,1,1,1,1,1,1,1,1,1,1,1,1,1,1,1,1,1,1,1,1,1,1,1,1,1,1,1,1,1,1,1,1,1,1,1,1,1,1,1,1,1,1,1,1,1,1,1,1,1,1,1,1,1,1,1,1,1,1,1,1,1,1,1,1,1,1,1,1,1,1,1,1,1,1,1,1,1,1,1,1,1,1,1,1,1,1,1,1,1,1,1,1,1,1,1,1,1,1,1,1,1,1,1,1,1,1,1,1,1,1,1,1,1,1,1,1,1,1,1,1,1,1,1,1,1,1,1,1,1,1,1,1,1,1,1,1,1,1,1,1,1,1,1,1,1,1,1,1,1,1,1,1,1,1,1,1,1,1,1,1,1,1,1,1,1,1,1,1,1,1,1,1,1,1,1,1,1,1,1,1,1,1,1,1,1,1,1,1,1,1,1,1,1,1,1,1,1,1,1,1,1,1,1,1,1,1,1,1,1,1,1,1,1,1,1,1,1,1,1,1,1,1,1,1,1,1,1,1,1,1,1,1,1,1,1,1,1,1,1,1,1,1,1,1,1,1,1,1,1,1,1,1,1,1,1,1,1,1,1,1,1,1,1,1,1,1,1,1,1,1,1,1,1,1,1,1,1,1,1,1,1,1,1,1,1,1,1,1,1,1,1,1,1,1,1,1,1,1,1,1,1,1,1,1,1,1,1,1,1,1,1,1,1,1,1,1,1,1,1,1,1,1,1,1,1,1,1,1,1,1,1,1,1,1,1,1,1,1,1,1,1,1,1,1,1,1,1,1,1,1,1,1,1,1,1,1,1,1,1,1,1,1,1,1,1,1,1,1,1,1,1,1,1,1,1,1,1,1,1,1,1,1,1,1,1,1,1,1,1,1,1],\"type\":\"choropleth\"}],                        {\"template\":{\"data\":{\"bar\":[{\"error_x\":{\"color\":\"#2a3f5f\"},\"error_y\":{\"color\":\"#2a3f5f\"},\"marker\":{\"line\":{\"color\":\"#E5ECF6\",\"width\":0.5},\"pattern\":{\"fillmode\":\"overlay\",\"size\":10,\"solidity\":0.2}},\"type\":\"bar\"}],\"barpolar\":[{\"marker\":{\"line\":{\"color\":\"#E5ECF6\",\"width\":0.5},\"pattern\":{\"fillmode\":\"overlay\",\"size\":10,\"solidity\":0.2}},\"type\":\"barpolar\"}],\"carpet\":[{\"aaxis\":{\"endlinecolor\":\"#2a3f5f\",\"gridcolor\":\"white\",\"linecolor\":\"white\",\"minorgridcolor\":\"white\",\"startlinecolor\":\"#2a3f5f\"},\"baxis\":{\"endlinecolor\":\"#2a3f5f\",\"gridcolor\":\"white\",\"linecolor\":\"white\",\"minorgridcolor\":\"white\",\"startlinecolor\":\"#2a3f5f\"},\"type\":\"carpet\"}],\"choropleth\":[{\"colorbar\":{\"outlinewidth\":0,\"ticks\":\"\"},\"type\":\"choropleth\"}],\"contour\":[{\"colorbar\":{\"outlinewidth\":0,\"ticks\":\"\"},\"colorscale\":[[0.0,\"#0d0887\"],[0.1111111111111111,\"#46039f\"],[0.2222222222222222,\"#7201a8\"],[0.3333333333333333,\"#9c179e\"],[0.4444444444444444,\"#bd3786\"],[0.5555555555555556,\"#d8576b\"],[0.6666666666666666,\"#ed7953\"],[0.7777777777777778,\"#fb9f3a\"],[0.8888888888888888,\"#fdca26\"],[1.0,\"#f0f921\"]],\"type\":\"contour\"}],\"contourcarpet\":[{\"colorbar\":{\"outlinewidth\":0,\"ticks\":\"\"},\"type\":\"contourcarpet\"}],\"heatmap\":[{\"colorbar\":{\"outlinewidth\":0,\"ticks\":\"\"},\"colorscale\":[[0.0,\"#0d0887\"],[0.1111111111111111,\"#46039f\"],[0.2222222222222222,\"#7201a8\"],[0.3333333333333333,\"#9c179e\"],[0.4444444444444444,\"#bd3786\"],[0.5555555555555556,\"#d8576b\"],[0.6666666666666666,\"#ed7953\"],[0.7777777777777778,\"#fb9f3a\"],[0.8888888888888888,\"#fdca26\"],[1.0,\"#f0f921\"]],\"type\":\"heatmap\"}],\"heatmapgl\":[{\"colorbar\":{\"outlinewidth\":0,\"ticks\":\"\"},\"colorscale\":[[0.0,\"#0d0887\"],[0.1111111111111111,\"#46039f\"],[0.2222222222222222,\"#7201a8\"],[0.3333333333333333,\"#9c179e\"],[0.4444444444444444,\"#bd3786\"],[0.5555555555555556,\"#d8576b\"],[0.6666666666666666,\"#ed7953\"],[0.7777777777777778,\"#fb9f3a\"],[0.8888888888888888,\"#fdca26\"],[1.0,\"#f0f921\"]],\"type\":\"heatmapgl\"}],\"histogram\":[{\"marker\":{\"pattern\":{\"fillmode\":\"overlay\",\"size\":10,\"solidity\":0.2}},\"type\":\"histogram\"}],\"histogram2d\":[{\"colorbar\":{\"outlinewidth\":0,\"ticks\":\"\"},\"colorscale\":[[0.0,\"#0d0887\"],[0.1111111111111111,\"#46039f\"],[0.2222222222222222,\"#7201a8\"],[0.3333333333333333,\"#9c179e\"],[0.4444444444444444,\"#bd3786\"],[0.5555555555555556,\"#d8576b\"],[0.6666666666666666,\"#ed7953\"],[0.7777777777777778,\"#fb9f3a\"],[0.8888888888888888,\"#fdca26\"],[1.0,\"#f0f921\"]],\"type\":\"histogram2d\"}],\"histogram2dcontour\":[{\"colorbar\":{\"outlinewidth\":0,\"ticks\":\"\"},\"colorscale\":[[0.0,\"#0d0887\"],[0.1111111111111111,\"#46039f\"],[0.2222222222222222,\"#7201a8\"],[0.3333333333333333,\"#9c179e\"],[0.4444444444444444,\"#bd3786\"],[0.5555555555555556,\"#d8576b\"],[0.6666666666666666,\"#ed7953\"],[0.7777777777777778,\"#fb9f3a\"],[0.8888888888888888,\"#fdca26\"],[1.0,\"#f0f921\"]],\"type\":\"histogram2dcontour\"}],\"mesh3d\":[{\"colorbar\":{\"outlinewidth\":0,\"ticks\":\"\"},\"type\":\"mesh3d\"}],\"parcoords\":[{\"line\":{\"colorbar\":{\"outlinewidth\":0,\"ticks\":\"\"}},\"type\":\"parcoords\"}],\"pie\":[{\"automargin\":true,\"type\":\"pie\"}],\"scatter\":[{\"marker\":{\"colorbar\":{\"outlinewidth\":0,\"ticks\":\"\"}},\"type\":\"scatter\"}],\"scatter3d\":[{\"line\":{\"colorbar\":{\"outlinewidth\":0,\"ticks\":\"\"}},\"marker\":{\"colorbar\":{\"outlinewidth\":0,\"ticks\":\"\"}},\"type\":\"scatter3d\"}],\"scattercarpet\":[{\"marker\":{\"colorbar\":{\"outlinewidth\":0,\"ticks\":\"\"}},\"type\":\"scattercarpet\"}],\"scattergeo\":[{\"marker\":{\"colorbar\":{\"outlinewidth\":0,\"ticks\":\"\"}},\"type\":\"scattergeo\"}],\"scattergl\":[{\"marker\":{\"colorbar\":{\"outlinewidth\":0,\"ticks\":\"\"}},\"type\":\"scattergl\"}],\"scattermapbox\":[{\"marker\":{\"colorbar\":{\"outlinewidth\":0,\"ticks\":\"\"}},\"type\":\"scattermapbox\"}],\"scatterpolar\":[{\"marker\":{\"colorbar\":{\"outlinewidth\":0,\"ticks\":\"\"}},\"type\":\"scatterpolar\"}],\"scatterpolargl\":[{\"marker\":{\"colorbar\":{\"outlinewidth\":0,\"ticks\":\"\"}},\"type\":\"scatterpolargl\"}],\"scatterternary\":[{\"marker\":{\"colorbar\":{\"outlinewidth\":0,\"ticks\":\"\"}},\"type\":\"scatterternary\"}],\"surface\":[{\"colorbar\":{\"outlinewidth\":0,\"ticks\":\"\"},\"colorscale\":[[0.0,\"#0d0887\"],[0.1111111111111111,\"#46039f\"],[0.2222222222222222,\"#7201a8\"],[0.3333333333333333,\"#9c179e\"],[0.4444444444444444,\"#bd3786\"],[0.5555555555555556,\"#d8576b\"],[0.6666666666666666,\"#ed7953\"],[0.7777777777777778,\"#fb9f3a\"],[0.8888888888888888,\"#fdca26\"],[1.0,\"#f0f921\"]],\"type\":\"surface\"}],\"table\":[{\"cells\":{\"fill\":{\"color\":\"#EBF0F8\"},\"line\":{\"color\":\"white\"}},\"header\":{\"fill\":{\"color\":\"#C8D4E3\"},\"line\":{\"color\":\"white\"}},\"type\":\"table\"}]},\"layout\":{\"annotationdefaults\":{\"arrowcolor\":\"#2a3f5f\",\"arrowhead\":0,\"arrowwidth\":1},\"autotypenumbers\":\"strict\",\"coloraxis\":{\"colorbar\":{\"outlinewidth\":0,\"ticks\":\"\"}},\"colorscale\":{\"diverging\":[[0,\"#8e0152\"],[0.1,\"#c51b7d\"],[0.2,\"#de77ae\"],[0.3,\"#f1b6da\"],[0.4,\"#fde0ef\"],[0.5,\"#f7f7f7\"],[0.6,\"#e6f5d0\"],[0.7,\"#b8e186\"],[0.8,\"#7fbc41\"],[0.9,\"#4d9221\"],[1,\"#276419\"]],\"sequential\":[[0.0,\"#0d0887\"],[0.1111111111111111,\"#46039f\"],[0.2222222222222222,\"#7201a8\"],[0.3333333333333333,\"#9c179e\"],[0.4444444444444444,\"#bd3786\"],[0.5555555555555556,\"#d8576b\"],[0.6666666666666666,\"#ed7953\"],[0.7777777777777778,\"#fb9f3a\"],[0.8888888888888888,\"#fdca26\"],[1.0,\"#f0f921\"]],\"sequentialminus\":[[0.0,\"#0d0887\"],[0.1111111111111111,\"#46039f\"],[0.2222222222222222,\"#7201a8\"],[0.3333333333333333,\"#9c179e\"],[0.4444444444444444,\"#bd3786\"],[0.5555555555555556,\"#d8576b\"],[0.6666666666666666,\"#ed7953\"],[0.7777777777777778,\"#fb9f3a\"],[0.8888888888888888,\"#fdca26\"],[1.0,\"#f0f921\"]]},\"colorway\":[\"#636efa\",\"#EF553B\",\"#00cc96\",\"#ab63fa\",\"#FFA15A\",\"#19d3f3\",\"#FF6692\",\"#B6E880\",\"#FF97FF\",\"#FECB52\"],\"font\":{\"color\":\"#2a3f5f\"},\"geo\":{\"bgcolor\":\"white\",\"lakecolor\":\"white\",\"landcolor\":\"#E5ECF6\",\"showlakes\":true,\"showland\":true,\"subunitcolor\":\"white\"},\"hoverlabel\":{\"align\":\"left\"},\"hovermode\":\"closest\",\"mapbox\":{\"style\":\"light\"},\"paper_bgcolor\":\"white\",\"plot_bgcolor\":\"#E5ECF6\",\"polar\":{\"angularaxis\":{\"gridcolor\":\"white\",\"linecolor\":\"white\",\"ticks\":\"\"},\"bgcolor\":\"#E5ECF6\",\"radialaxis\":{\"gridcolor\":\"white\",\"linecolor\":\"white\",\"ticks\":\"\"}},\"scene\":{\"xaxis\":{\"backgroundcolor\":\"#E5ECF6\",\"gridcolor\":\"white\",\"gridwidth\":2,\"linecolor\":\"white\",\"showbackground\":true,\"ticks\":\"\",\"zerolinecolor\":\"white\"},\"yaxis\":{\"backgroundcolor\":\"#E5ECF6\",\"gridcolor\":\"white\",\"gridwidth\":2,\"linecolor\":\"white\",\"showbackground\":true,\"ticks\":\"\",\"zerolinecolor\":\"white\"},\"zaxis\":{\"backgroundcolor\":\"#E5ECF6\",\"gridcolor\":\"white\",\"gridwidth\":2,\"linecolor\":\"white\",\"showbackground\":true,\"ticks\":\"\",\"zerolinecolor\":\"white\"}},\"shapedefaults\":{\"line\":{\"color\":\"#2a3f5f\"}},\"ternary\":{\"aaxis\":{\"gridcolor\":\"white\",\"linecolor\":\"white\",\"ticks\":\"\"},\"baxis\":{\"gridcolor\":\"white\",\"linecolor\":\"white\",\"ticks\":\"\"},\"bgcolor\":\"#E5ECF6\",\"caxis\":{\"gridcolor\":\"white\",\"linecolor\":\"white\",\"ticks\":\"\"}},\"title\":{\"x\":0.05},\"xaxis\":{\"automargin\":true,\"gridcolor\":\"white\",\"linecolor\":\"white\",\"ticks\":\"\",\"title\":{\"standoff\":15},\"zerolinecolor\":\"white\",\"zerolinewidth\":2},\"yaxis\":{\"automargin\":true,\"gridcolor\":\"white\",\"linecolor\":\"white\",\"ticks\":\"\",\"title\":{\"standoff\":15},\"zerolinecolor\":\"white\",\"zerolinewidth\":2}}},\"geo\":{\"domain\":{\"x\":[0.0,1.0],\"y\":[0.0,1.0]},\"center\":{}},\"legend\":{\"tracegroupgap\":0},\"margin\":{\"t\":60}},                        {\"responsive\": true}                    ).then(function(){\n",
       "                            \n",
       "var gd = document.getElementById('e65f1f82-fa29-4446-9fc0-94eed90bfed9');\n",
       "var x = new MutationObserver(function (mutations, observer) {{\n",
       "        var display = window.getComputedStyle(gd).display;\n",
       "        if (!display || display === 'none') {{\n",
       "            console.log([gd, 'removed!']);\n",
       "            Plotly.purge(gd);\n",
       "            observer.disconnect();\n",
       "        }}\n",
       "}});\n",
       "\n",
       "// Listen for the removal of the full notebook cells\n",
       "var notebookContainer = gd.closest('#notebook-container');\n",
       "if (notebookContainer) {{\n",
       "    x.observe(notebookContainer, {childList: true});\n",
       "}}\n",
       "\n",
       "// Listen for the clearing of the current output cell\n",
       "var outputEl = gd.closest('.output');\n",
       "if (outputEl) {{\n",
       "    x.observe(outputEl, {childList: true});\n",
       "}}\n",
       "\n",
       "                        })                };                });            </script>        </div>"
      ]
     },
     "metadata": {},
     "output_type": "display_data"
    }
   ],
   "source": [
    "fig = px.choropleth(locationmode = 'country names', locations = df_countries.country, labels = df_countries['count'])\n",
    "fig.show()"
   ]
  },
  {
   "cell_type": "code",
   "execution_count": 114,
   "id": "f82b8122",
   "metadata": {},
   "outputs": [
    {
     "data": {
      "text/plain": [
       "Text(0.5, 1.0, 'Top 10 Genres of Movies')"
      ]
     },
     "execution_count": 114,
     "metadata": {},
     "output_type": "execute_result"
    },
    {
     "data": {
      "image/png": "[encoded data removed]",
      "text/plain": [
       "<Figure size 864x432 with 1 Axes>"
      ]
     },
     "metadata": {
      "needs_background": "light"
     },
     "output_type": "display_data"
    }
   ],
   "source": [
    "plt.figure(figsize = (12,6))\n",
    "df[df['type']=='Movie']['listed_in'].value_counts()[:10].plot(kind='barh', color='black')\n",
    "plt.title('Top 10 Genres of Movies', fontsize=18)"
   ]
  },
  {
   "cell_type": "code",
   "execution_count": 116,
   "id": "3c0bc30a",
   "metadata": {},
   "outputs": [
    {
     "data": {
      "text/plain": [
       "Text(0.5, 1.0, 'Top 10 Genres of TV Shows')"
      ]
     },
     "execution_count": 116,
     "metadata": {},
     "output_type": "execute_result"
    },
    {
     "data": {
      "image/png": "[encoded data removed]",
      "text/plain": [
       "<Figure size 864x432 with 1 Axes>"
      ]
     },
     "metadata": {
      "needs_background": "light"
     },
     "output_type": "display_data"
    }
   ],
   "source": [
    "plt.figure(figsize = (12,6))\n",
    "df[df['type']=='TV Show']['listed_in'].value_counts()[:10].plot(kind='barh', color='brown')\n",
    "plt.title('Top 10 Genres of TV Shows', fontsize=18)"
   ]
  },
  {
   "cell_type": "code",
   "execution_count": null,
   "id": "fa21a30f",
   "metadata": {},
   "outputs": [],
   "source": []
  }
 ],
 "metadata": {
  "kernelspec": {
   "display_name": "Python 3 (ipykernel)",
   "language": "python",
   "name": "python3"
  },
  "language_info": {
   "codemirror_mode": {
    "name": "ipython",
    "version": 3
   },
   "file_extension": ".py",
   "mimetype": "text/x-python",
   "name": "python",
   "nbconvert_exporter": "python",
   "pygments_lexer": "ipython3",
   "version": "3.9.7"
  }
 },
 "nbformat": 4,
 "nbformat_minor": 5
}
